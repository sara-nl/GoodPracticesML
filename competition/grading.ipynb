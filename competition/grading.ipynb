{
 "cells": [
  {
   "cell_type": "code",
   "execution_count": 7,
   "metadata": {},
   "outputs": [],
   "source": [
    "import pandas as pd\n",
    "import glob"
   ]
  },
  {
   "cell_type": "code",
   "execution_count": 8,
   "metadata": {},
   "outputs": [],
   "source": [
    "submission_dir = 'submission_folder'"
   ]
  },
  {
   "cell_type": "code",
   "execution_count": 9,
   "metadata": {},
   "outputs": [],
   "source": [
    "label_dir = 'dataset/test/diagnoses_test.csv.gz'"
   ]
  },
  {
   "cell_type": "code",
   "execution_count": 10,
   "metadata": {},
   "outputs": [],
   "source": [
    "label_df = pd.read_csv(label_dir)"
   ]
  },
  {
   "cell_type": "code",
   "execution_count": 11,
   "metadata": {},
   "outputs": [],
   "source": [
    "submission_files = glob.glob(submission_dir + '/*.csv')"
   ]
  },
  {
   "cell_type": "code",
   "execution_count": 15,
   "metadata": {},
   "outputs": [
    {
     "name": "stdout",
     "output_type": "stream",
     "text": [
      "(1118, 3)\n"
     ]
    },
    {
     "data": {
      "text/html": [
       "<div>\n",
       "<style scoped>\n",
       "    .dataframe tbody tr th:only-of-type {\n",
       "        vertical-align: middle;\n",
       "    }\n",
       "\n",
       "    .dataframe tbody tr th {\n",
       "        vertical-align: top;\n",
       "    }\n",
       "\n",
       "    .dataframe thead th {\n",
       "        text-align: right;\n",
       "    }\n",
       "</style>\n",
       "<table border=\"1\" class=\"dataframe\">\n",
       "  <thead>\n",
       "    <tr style=\"text-align: right;\">\n",
       "      <th></th>\n",
       "      <th>ICUSTAY_ID</th>\n",
       "      <th>DIAGNOSIS_PRED</th>\n",
       "      <th>DIAGNOSIS</th>\n",
       "    </tr>\n",
       "  </thead>\n",
       "  <tbody>\n",
       "    <tr>\n",
       "      <th>0</th>\n",
       "      <td>200108.0</td>\n",
       "      <td>CONGESTIVE HEART FAILURE</td>\n",
       "      <td>PNEUMONIA</td>\n",
       "    </tr>\n",
       "    <tr>\n",
       "      <th>1</th>\n",
       "      <td>200256.0</td>\n",
       "      <td>PNEUMONIA</td>\n",
       "      <td>PNEUMONIA</td>\n",
       "    </tr>\n",
       "    <tr>\n",
       "      <th>2</th>\n",
       "      <td>200321.0</td>\n",
       "      <td>SEPSIS</td>\n",
       "      <td>PNEUMONIA</td>\n",
       "    </tr>\n",
       "    <tr>\n",
       "      <th>3</th>\n",
       "      <td>200349.0</td>\n",
       "      <td>SEPSIS</td>\n",
       "      <td>ALTERED MENTAL STATUS</td>\n",
       "    </tr>\n",
       "    <tr>\n",
       "      <th>4</th>\n",
       "      <td>200352.0</td>\n",
       "      <td>CONGESTIVE HEART FAILURE</td>\n",
       "      <td>PNEUMONIA</td>\n",
       "    </tr>\n",
       "  </tbody>\n",
       "</table>\n",
       "</div>"
      ],
      "text/plain": [
       "   ICUSTAY_ID            DIAGNOSIS_PRED              DIAGNOSIS\n",
       "0    200108.0  CONGESTIVE HEART FAILURE              PNEUMONIA\n",
       "1    200256.0                 PNEUMONIA              PNEUMONIA\n",
       "2    200321.0                    SEPSIS              PNEUMONIA\n",
       "3    200349.0                    SEPSIS  ALTERED MENTAL STATUS\n",
       "4    200352.0  CONGESTIVE HEART FAILURE              PNEUMONIA"
      ]
     },
     "metadata": {},
     "output_type": "display_data"
    },
    {
     "name": "stdout",
     "output_type": "stream",
     "text": [
      "submission_folder/submission_name.csv 61.18067978533095\n"
     ]
    }
   ],
   "source": [
    "for file in submission_files:\n",
    "    submission_df = pd.read_csv(file)\n",
    "    \n",
    "    submission_df = pd.merge(submission_df, label_df, on='ICUSTAY_ID')\n",
    "    \n",
    "    assert submission_df['ICUSTAY_ID'].nunique() == 1118    \n",
    "    assert len(submission_df) == 1118\n",
    "    print(submission_df.shape)\n",
    "    display(submission_df.head())\n",
    "    \n",
    "    accuracy = (submission_df['DIAGNOSIS_PRED'] == submission_df['DIAGNOSIS']).mean() * 100\n",
    "    \n",
    "    print(file, accuracy)\n",
    "    "
   ]
  },
  {
   "cell_type": "code",
   "execution_count": null,
   "metadata": {},
   "outputs": [],
   "source": []
  }
 ],
 "metadata": {
  "kernelspec": {
   "display_name": "Python 3",
   "language": "python",
   "name": "python3"
  },
  "language_info": {
   "codemirror_mode": {
    "name": "ipython",
    "version": 3
   },
   "file_extension": ".py",
   "mimetype": "text/x-python",
   "name": "python",
   "nbconvert_exporter": "python",
   "pygments_lexer": "ipython3",
   "version": "3.7.4"
  }
 },
 "nbformat": 4,
 "nbformat_minor": 4
}

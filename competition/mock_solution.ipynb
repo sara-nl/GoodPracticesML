{
 "cells": [
  {
   "cell_type": "code",
   "execution_count": 1,
   "metadata": {},
   "outputs": [],
   "source": [
    "import pandas as pd\n",
    "import numpy as np\n",
    "from functools import partial"
   ]
  },
  {
   "cell_type": "code",
   "execution_count": 2,
   "metadata": {},
   "outputs": [],
   "source": [
    "patient_characteristics_train = pd.read_csv('dataset/train/patient_characteristics.csv.gz')\n",
    "chartevents_train = pd.read_csv('dataset/train/chartevents.csv.gz')\n",
    "labevents_train = pd.read_csv('dataset/train/labevents.csv.gz')"
   ]
  },
  {
   "cell_type": "code",
   "execution_count": 3,
   "metadata": {},
   "outputs": [
    {
     "data": {
      "text/plain": [
       "7820"
      ]
     },
     "execution_count": 3,
     "metadata": {},
     "output_type": "execute_result"
    }
   ],
   "source": [
    "len(set(patient_characteristics_train['ICUSTAY_ID'].unique()).intersection(set(chartevents_train['ICUSTAY_ID'].unique())))"
   ]
  },
  {
   "cell_type": "code",
   "execution_count": 4,
   "metadata": {},
   "outputs": [
    {
     "data": {
      "text/plain": [
       "7820"
      ]
     },
     "execution_count": 4,
     "metadata": {},
     "output_type": "execute_result"
    }
   ],
   "source": [
    "patient_characteristics_train['ICUSTAY_ID'].nunique()"
   ]
  },
  {
   "cell_type": "code",
   "execution_count": 5,
   "metadata": {},
   "outputs": [
    {
     "data": {
      "text/plain": [
       "7820"
      ]
     },
     "execution_count": 5,
     "metadata": {},
     "output_type": "execute_result"
    }
   ],
   "source": [
    "chartevents_train['ICUSTAY_ID'].nunique()"
   ]
  },
  {
   "cell_type": "code",
   "execution_count": 6,
   "metadata": {},
   "outputs": [
    {
     "data": {
      "text/plain": [
       "(7820, 22)"
      ]
     },
     "execution_count": 6,
     "metadata": {},
     "output_type": "execute_result"
    }
   ],
   "source": [
    "patient_characteristics_train.shape"
   ]
  },
  {
   "cell_type": "code",
   "execution_count": 7,
   "metadata": {},
   "outputs": [],
   "source": [
    "patient_characteristics_test = pd.read_csv('dataset/test/patient_characteristics.csv.gz')\n",
    "chartevents_test = pd.read_csv('dataset/test/chartevents.csv.gz')\n",
    "labevents_test = pd.read_csv('dataset/test/labevents.csv.gz')"
   ]
  },
  {
   "cell_type": "code",
   "execution_count": 8,
   "metadata": {},
   "outputs": [
    {
     "data": {
      "text/plain": [
       "1118"
      ]
     },
     "execution_count": 8,
     "metadata": {},
     "output_type": "execute_result"
    }
   ],
   "source": [
    "len(set(patient_characteristics_test['ICUSTAY_ID'].unique()).intersection(set(chartevents_test['ICUSTAY_ID'].unique())))"
   ]
  },
  {
   "cell_type": "code",
   "execution_count": 9,
   "metadata": {},
   "outputs": [
    {
     "data": {
      "text/plain": [
       "1118"
      ]
     },
     "execution_count": 9,
     "metadata": {},
     "output_type": "execute_result"
    }
   ],
   "source": [
    "patient_characteristics_test['ICUSTAY_ID'].nunique()"
   ]
  },
  {
   "cell_type": "markdown",
   "metadata": {},
   "source": [
    "# Patient_Characteristics"
   ]
  },
  {
   "cell_type": "code",
   "execution_count": 10,
   "metadata": {
    "scrolled": true
   },
   "outputs": [
    {
     "data": {
      "text/html": [
       "<div>\n",
       "<style scoped>\n",
       "    .dataframe tbody tr th:only-of-type {\n",
       "        vertical-align: middle;\n",
       "    }\n",
       "\n",
       "    .dataframe tbody tr th {\n",
       "        vertical-align: top;\n",
       "    }\n",
       "\n",
       "    .dataframe thead th {\n",
       "        text-align: right;\n",
       "    }\n",
       "</style>\n",
       "<table border=\"1\" class=\"dataframe\">\n",
       "  <thead>\n",
       "    <tr style=\"text-align: right;\">\n",
       "      <th></th>\n",
       "      <th>ROW_ID</th>\n",
       "      <th>SUBJECT_ID</th>\n",
       "      <th>HADM_ID</th>\n",
       "      <th>ICUSTAY_ID</th>\n",
       "      <th>FIRST_CAREUNIT</th>\n",
       "      <th>LAST_CAREUNIT</th>\n",
       "      <th>FIRST_WARDID</th>\n",
       "      <th>LAST_WARDID</th>\n",
       "      <th>INTIME</th>\n",
       "      <th>OUTTIME</th>\n",
       "      <th>...</th>\n",
       "      <th>DISCHTIME</th>\n",
       "      <th>ADMISSION_TYPE</th>\n",
       "      <th>ADMISSION_LOCATION</th>\n",
       "      <th>DISCHARGE_LOCATION</th>\n",
       "      <th>INSURANCE</th>\n",
       "      <th>LANGUAGE</th>\n",
       "      <th>RELIGION</th>\n",
       "      <th>MARITAL_STATUS</th>\n",
       "      <th>ETHNICITY</th>\n",
       "      <th>HOSPITAL_EXPIRE_FLAG</th>\n",
       "    </tr>\n",
       "  </thead>\n",
       "  <tbody>\n",
       "    <tr>\n",
       "      <th>0</th>\n",
       "      <td>371</td>\n",
       "      <td>274</td>\n",
       "      <td>130546</td>\n",
       "      <td>254851</td>\n",
       "      <td>MICU</td>\n",
       "      <td>MICU</td>\n",
       "      <td>12</td>\n",
       "      <td>12</td>\n",
       "      <td>2114-06-28 22:28:44</td>\n",
       "      <td>2114-07-07 18:01:16</td>\n",
       "      <td>...</td>\n",
       "      <td>2114-07-12 15:30:00</td>\n",
       "      <td>EMERGENCY</td>\n",
       "      <td>EMERGENCY ROOM ADMIT</td>\n",
       "      <td>REHAB/DISTINCT PART HOSP</td>\n",
       "      <td>Medicare</td>\n",
       "      <td>ENGL</td>\n",
       "      <td>PROTESTANT QUAKER</td>\n",
       "      <td>MARRIED</td>\n",
       "      <td>BLACK/AFRICAN AMERICAN</td>\n",
       "      <td>0</td>\n",
       "    </tr>\n",
       "    <tr>\n",
       "      <th>1</th>\n",
       "      <td>379</td>\n",
       "      <td>283</td>\n",
       "      <td>109185</td>\n",
       "      <td>231490</td>\n",
       "      <td>MICU</td>\n",
       "      <td>MICU</td>\n",
       "      <td>15</td>\n",
       "      <td>15</td>\n",
       "      <td>2166-08-12 22:03:26</td>\n",
       "      <td>2166-09-12 14:41:42</td>\n",
       "      <td>...</td>\n",
       "      <td>2166-09-12 14:41:00</td>\n",
       "      <td>EMERGENCY</td>\n",
       "      <td>EMERGENCY ROOM ADMIT</td>\n",
       "      <td>REHAB/DISTINCT PART HOSP</td>\n",
       "      <td>Medicare</td>\n",
       "      <td>NaN</td>\n",
       "      <td>NaN</td>\n",
       "      <td>WIDOWED</td>\n",
       "      <td>WHITE</td>\n",
       "      <td>0</td>\n",
       "    </tr>\n",
       "    <tr>\n",
       "      <th>2</th>\n",
       "      <td>391</td>\n",
       "      <td>291</td>\n",
       "      <td>126219</td>\n",
       "      <td>246725</td>\n",
       "      <td>MICU</td>\n",
       "      <td>MICU</td>\n",
       "      <td>52</td>\n",
       "      <td>52</td>\n",
       "      <td>2107-09-13 22:43:01</td>\n",
       "      <td>2107-09-14 18:34:48</td>\n",
       "      <td>...</td>\n",
       "      <td>2107-09-16 18:50:00</td>\n",
       "      <td>EMERGENCY</td>\n",
       "      <td>CLINIC REFERRAL/PREMATURE</td>\n",
       "      <td>SNF</td>\n",
       "      <td>Medicare</td>\n",
       "      <td>ENGL</td>\n",
       "      <td>CATHOLIC</td>\n",
       "      <td>SINGLE</td>\n",
       "      <td>WHITE</td>\n",
       "      <td>0</td>\n",
       "    </tr>\n",
       "    <tr>\n",
       "      <th>3</th>\n",
       "      <td>408</td>\n",
       "      <td>305</td>\n",
       "      <td>122211</td>\n",
       "      <td>224571</td>\n",
       "      <td>MICU</td>\n",
       "      <td>MICU</td>\n",
       "      <td>50</td>\n",
       "      <td>50</td>\n",
       "      <td>2127-06-19 23:50:45</td>\n",
       "      <td>2127-06-20 18:51:59</td>\n",
       "      <td>...</td>\n",
       "      <td>2127-07-16 13:58:00</td>\n",
       "      <td>EMERGENCY</td>\n",
       "      <td>EMERGENCY ROOM ADMIT</td>\n",
       "      <td>REHAB/DISTINCT PART HOSP</td>\n",
       "      <td>Medicare</td>\n",
       "      <td>PORT</td>\n",
       "      <td>CATHOLIC</td>\n",
       "      <td>MARRIED</td>\n",
       "      <td>WHITE</td>\n",
       "      <td>0</td>\n",
       "    </tr>\n",
       "    <tr>\n",
       "      <th>4</th>\n",
       "      <td>409</td>\n",
       "      <td>305</td>\n",
       "      <td>122211</td>\n",
       "      <td>232248</td>\n",
       "      <td>MICU</td>\n",
       "      <td>MICU</td>\n",
       "      <td>50</td>\n",
       "      <td>50</td>\n",
       "      <td>2127-07-03 20:02:34</td>\n",
       "      <td>2127-07-09 15:31:36</td>\n",
       "      <td>...</td>\n",
       "      <td>2127-07-16 13:58:00</td>\n",
       "      <td>EMERGENCY</td>\n",
       "      <td>EMERGENCY ROOM ADMIT</td>\n",
       "      <td>REHAB/DISTINCT PART HOSP</td>\n",
       "      <td>Medicare</td>\n",
       "      <td>PORT</td>\n",
       "      <td>CATHOLIC</td>\n",
       "      <td>MARRIED</td>\n",
       "      <td>WHITE</td>\n",
       "      <td>0</td>\n",
       "    </tr>\n",
       "  </tbody>\n",
       "</table>\n",
       "<p>5 rows × 22 columns</p>\n",
       "</div>"
      ],
      "text/plain": [
       "   ROW_ID  SUBJECT_ID  HADM_ID  ICUSTAY_ID FIRST_CAREUNIT LAST_CAREUNIT  \\\n",
       "0     371         274   130546      254851           MICU          MICU   \n",
       "1     379         283   109185      231490           MICU          MICU   \n",
       "2     391         291   126219      246725           MICU          MICU   \n",
       "3     408         305   122211      224571           MICU          MICU   \n",
       "4     409         305   122211      232248           MICU          MICU   \n",
       "\n",
       "   FIRST_WARDID  LAST_WARDID               INTIME              OUTTIME  ...  \\\n",
       "0            12           12  2114-06-28 22:28:44  2114-07-07 18:01:16  ...   \n",
       "1            15           15  2166-08-12 22:03:26  2166-09-12 14:41:42  ...   \n",
       "2            52           52  2107-09-13 22:43:01  2107-09-14 18:34:48  ...   \n",
       "3            50           50  2127-06-19 23:50:45  2127-06-20 18:51:59  ...   \n",
       "4            50           50  2127-07-03 20:02:34  2127-07-09 15:31:36  ...   \n",
       "\n",
       "             DISCHTIME ADMISSION_TYPE         ADMISSION_LOCATION  \\\n",
       "0  2114-07-12 15:30:00      EMERGENCY       EMERGENCY ROOM ADMIT   \n",
       "1  2166-09-12 14:41:00      EMERGENCY       EMERGENCY ROOM ADMIT   \n",
       "2  2107-09-16 18:50:00      EMERGENCY  CLINIC REFERRAL/PREMATURE   \n",
       "3  2127-07-16 13:58:00      EMERGENCY       EMERGENCY ROOM ADMIT   \n",
       "4  2127-07-16 13:58:00      EMERGENCY       EMERGENCY ROOM ADMIT   \n",
       "\n",
       "         DISCHARGE_LOCATION INSURANCE LANGUAGE           RELIGION  \\\n",
       "0  REHAB/DISTINCT PART HOSP  Medicare     ENGL  PROTESTANT QUAKER   \n",
       "1  REHAB/DISTINCT PART HOSP  Medicare      NaN                NaN   \n",
       "2                       SNF  Medicare     ENGL           CATHOLIC   \n",
       "3  REHAB/DISTINCT PART HOSP  Medicare     PORT           CATHOLIC   \n",
       "4  REHAB/DISTINCT PART HOSP  Medicare     PORT           CATHOLIC   \n",
       "\n",
       "  MARITAL_STATUS               ETHNICITY HOSPITAL_EXPIRE_FLAG  \n",
       "0        MARRIED  BLACK/AFRICAN AMERICAN                    0  \n",
       "1        WIDOWED                   WHITE                    0  \n",
       "2         SINGLE                   WHITE                    0  \n",
       "3        MARRIED                   WHITE                    0  \n",
       "4        MARRIED                   WHITE                    0  \n",
       "\n",
       "[5 rows x 22 columns]"
      ]
     },
     "execution_count": 10,
     "metadata": {},
     "output_type": "execute_result"
    }
   ],
   "source": [
    "patient_characteristics_train.head()"
   ]
  },
  {
   "cell_type": "code",
   "execution_count": 11,
   "metadata": {},
   "outputs": [
    {
     "data": {
      "text/plain": [
       "Index(['ROW_ID', 'SUBJECT_ID', 'HADM_ID', 'ICUSTAY_ID', 'FIRST_CAREUNIT',\n",
       "       'LAST_CAREUNIT', 'FIRST_WARDID', 'LAST_WARDID', 'INTIME', 'OUTTIME',\n",
       "       'LOS', 'ADMITTIME', 'DISCHTIME', 'ADMISSION_TYPE', 'ADMISSION_LOCATION',\n",
       "       'DISCHARGE_LOCATION', 'INSURANCE', 'LANGUAGE', 'RELIGION',\n",
       "       'MARITAL_STATUS', 'ETHNICITY', 'HOSPITAL_EXPIRE_FLAG'],\n",
       "      dtype='object')"
      ]
     },
     "execution_count": 11,
     "metadata": {},
     "output_type": "execute_result"
    }
   ],
   "source": [
    "patient_characteristics_train.columns"
   ]
  },
  {
   "cell_type": "code",
   "execution_count": 12,
   "metadata": {},
   "outputs": [
    {
     "data": {
      "text/plain": [
       "(7820, 22)"
      ]
     },
     "execution_count": 12,
     "metadata": {},
     "output_type": "execute_result"
    }
   ],
   "source": [
    "patient_characteristics_train.shape"
   ]
  },
  {
   "cell_type": "markdown",
   "metadata": {},
   "source": [
    "## Number of HADM & Numer of ICUSTAY"
   ]
  },
  {
   "cell_type": "code",
   "execution_count": 13,
   "metadata": {},
   "outputs": [],
   "source": [
    "def count_hadm_icustay(df):\n",
    "    num_hadm = df.groupby('SUBJECT_ID')['HADM_ID'].count().rename('NUM_HADM')\n",
    "    num_icustays = df.groupby('SUBJECT_ID')['ICUSTAY_ID'].count().rename('NUM_ICUSTAYS')\n",
    "    \n",
    "    df = pd.merge(df, num_hadm, on='SUBJECT_ID')\n",
    "    df = pd.merge(df, num_icustays, on='SUBJECT_ID')\n",
    "    \n",
    "    return df"
   ]
  },
  {
   "cell_type": "code",
   "execution_count": 14,
   "metadata": {},
   "outputs": [],
   "source": [
    "patient_characteristics_train = count_hadm_icustay(patient_characteristics_train)\n",
    "patient_characteristics_test = count_hadm_icustay(patient_characteristics_test)"
   ]
  },
  {
   "cell_type": "code",
   "execution_count": 15,
   "metadata": {},
   "outputs": [
    {
     "data": {
      "text/plain": [
       "(7820, 24)"
      ]
     },
     "execution_count": 15,
     "metadata": {},
     "output_type": "execute_result"
    }
   ],
   "source": [
    "patient_characteristics_train.shape"
   ]
  },
  {
   "cell_type": "markdown",
   "metadata": {},
   "source": [
    "## Length of Stay"
   ]
  },
  {
   "cell_type": "code",
   "execution_count": 16,
   "metadata": {},
   "outputs": [
    {
     "data": {
      "text/plain": [
       "<matplotlib.axes._subplots.AxesSubplot at 0x11fdd5ad0>"
      ]
     },
     "execution_count": 16,
     "metadata": {},
     "output_type": "execute_result"
    }
   ],
   "source": [
    "patient_characteristics_train['LOS'].hist(bins=100)"
   ]
  },
  {
   "cell_type": "code",
   "execution_count": 17,
   "metadata": {},
   "outputs": [],
   "source": [
    "def length_of_stay_quantiles(df, q_locs):\n",
    "    for i in range(len(q_locs) - 1):\n",
    "        q = q_locs[i]\n",
    "        nq = q_locs[i + 1]\n",
    "        df[f'LOS_q_{q:.2f}'] = df['LOS'].between(q, nq)\n",
    "        \n",
    "    return df"
   ]
  },
  {
   "cell_type": "code",
   "execution_count": 18,
   "metadata": {},
   "outputs": [],
   "source": [
    "q_locs = []\n",
    "for q in np.linspace(0, 0.8, 4):\n",
    "    q_loc = patient_characteristics_train['LOS'].quantile(q)\n",
    "    q_locs.append(q_loc)\n",
    "    \n",
    "q_locs.insert(0, 0)\n",
    "q_locs.append(patient_characteristics_train['LOS'].max())"
   ]
  },
  {
   "cell_type": "code",
   "execution_count": 19,
   "metadata": {},
   "outputs": [],
   "source": [
    "patient_characteristics_train = length_of_stay_quantiles(patient_characteristics_train, q_locs)\n",
    "patient_characteristics_test = length_of_stay_quantiles(patient_characteristics_test, q_locs)"
   ]
  },
  {
   "cell_type": "markdown",
   "metadata": {},
   "source": [
    "# Chartevents"
   ]
  },
  {
   "cell_type": "code",
   "execution_count": 20,
   "metadata": {},
   "outputs": [
    {
     "data": {
      "text/html": [
       "<div>\n",
       "<style scoped>\n",
       "    .dataframe tbody tr th:only-of-type {\n",
       "        vertical-align: middle;\n",
       "    }\n",
       "\n",
       "    .dataframe tbody tr th {\n",
       "        vertical-align: top;\n",
       "    }\n",
       "\n",
       "    .dataframe thead th {\n",
       "        text-align: right;\n",
       "    }\n",
       "</style>\n",
       "<table border=\"1\" class=\"dataframe\">\n",
       "  <thead>\n",
       "    <tr style=\"text-align: right;\">\n",
       "      <th></th>\n",
       "      <th>SUBJECT_ID</th>\n",
       "      <th>HADM_ID</th>\n",
       "      <th>ICUSTAY_ID</th>\n",
       "      <th>CHARTTIME</th>\n",
       "      <th>VALUE</th>\n",
       "      <th>NAME</th>\n",
       "    </tr>\n",
       "  </thead>\n",
       "  <tbody>\n",
       "    <tr>\n",
       "      <th>0</th>\n",
       "      <td>85</td>\n",
       "      <td>112077</td>\n",
       "      <td>291697.0</td>\n",
       "      <td>2167-07-26 17:00:00</td>\n",
       "      <td>100.0</td>\n",
       "      <td>heartrate</td>\n",
       "    </tr>\n",
       "    <tr>\n",
       "      <th>1</th>\n",
       "      <td>85</td>\n",
       "      <td>112077</td>\n",
       "      <td>291697.0</td>\n",
       "      <td>2167-07-26 18:00:00</td>\n",
       "      <td>106.0</td>\n",
       "      <td>heartrate</td>\n",
       "    </tr>\n",
       "    <tr>\n",
       "      <th>2</th>\n",
       "      <td>85</td>\n",
       "      <td>112077</td>\n",
       "      <td>291697.0</td>\n",
       "      <td>2167-07-26 19:00:00</td>\n",
       "      <td>114.0</td>\n",
       "      <td>heartrate</td>\n",
       "    </tr>\n",
       "    <tr>\n",
       "      <th>3</th>\n",
       "      <td>85</td>\n",
       "      <td>112077</td>\n",
       "      <td>291697.0</td>\n",
       "      <td>2167-07-26 20:00:00</td>\n",
       "      <td>102.0</td>\n",
       "      <td>heartrate</td>\n",
       "    </tr>\n",
       "    <tr>\n",
       "      <th>4</th>\n",
       "      <td>85</td>\n",
       "      <td>112077</td>\n",
       "      <td>291697.0</td>\n",
       "      <td>2167-07-26 21:00:00</td>\n",
       "      <td>111.0</td>\n",
       "      <td>heartrate</td>\n",
       "    </tr>\n",
       "  </tbody>\n",
       "</table>\n",
       "</div>"
      ],
      "text/plain": [
       "   SUBJECT_ID  HADM_ID  ICUSTAY_ID            CHARTTIME  VALUE       NAME\n",
       "0          85   112077    291697.0  2167-07-26 17:00:00  100.0  heartrate\n",
       "1          85   112077    291697.0  2167-07-26 18:00:00  106.0  heartrate\n",
       "2          85   112077    291697.0  2167-07-26 19:00:00  114.0  heartrate\n",
       "3          85   112077    291697.0  2167-07-26 20:00:00  102.0  heartrate\n",
       "4          85   112077    291697.0  2167-07-26 21:00:00  111.0  heartrate"
      ]
     },
     "execution_count": 20,
     "metadata": {},
     "output_type": "execute_result"
    }
   ],
   "source": [
    "chartevents_train.head()"
   ]
  },
  {
   "cell_type": "code",
   "execution_count": 21,
   "metadata": {},
   "outputs": [],
   "source": [
    "quantiles = np.linspace(0.25, 0.75, 3)\n",
    "\n",
    "quantile_functions = []\n",
    "\n",
    "for quantile in quantiles:\n",
    "    qf = partial(np.quantile, q=quantile)\n",
    "    qf.__name__ = f'q{quantile:.2f}'\n",
    "    quantile_functions.append(qf)"
   ]
  },
  {
   "cell_type": "code",
   "execution_count": 22,
   "metadata": {},
   "outputs": [
    {
     "data": {
      "text/plain": [
       "[functools.partial(<function quantile at 0x11a438320>, q=0.25),\n",
       " functools.partial(<function quantile at 0x11a438320>, q=0.5),\n",
       " functools.partial(<function quantile at 0x11a438320>, q=0.75)]"
      ]
     },
     "execution_count": 22,
     "metadata": {},
     "output_type": "execute_result"
    }
   ],
   "source": [
    "quantile_functions"
   ]
  },
  {
   "cell_type": "code",
   "execution_count": 23,
   "metadata": {},
   "outputs": [],
   "source": [
    "chartevents_train_grouped = chartevents_train.groupby(['ICUSTAY_ID', 'NAME'])['VALUE'].agg(['min', 'max', 'mean', 'std', 'first', 'last', 'count', 'mad', \n",
    "                                                    *quantile_functions])"
   ]
  },
  {
   "cell_type": "code",
   "execution_count": 24,
   "metadata": {},
   "outputs": [
    {
     "data": {
      "text/html": [
       "<div>\n",
       "<style scoped>\n",
       "    .dataframe tbody tr th:only-of-type {\n",
       "        vertical-align: middle;\n",
       "    }\n",
       "\n",
       "    .dataframe tbody tr th {\n",
       "        vertical-align: top;\n",
       "    }\n",
       "\n",
       "    .dataframe thead th {\n",
       "        text-align: right;\n",
       "    }\n",
       "</style>\n",
       "<table border=\"1\" class=\"dataframe\">\n",
       "  <thead>\n",
       "    <tr style=\"text-align: right;\">\n",
       "      <th></th>\n",
       "      <th></th>\n",
       "      <th>min</th>\n",
       "      <th>max</th>\n",
       "      <th>mean</th>\n",
       "      <th>std</th>\n",
       "      <th>first</th>\n",
       "      <th>last</th>\n",
       "      <th>count</th>\n",
       "      <th>mad</th>\n",
       "      <th>q0.25</th>\n",
       "      <th>q0.50</th>\n",
       "      <th>q0.75</th>\n",
       "    </tr>\n",
       "    <tr>\n",
       "      <th>ICUSTAY_ID</th>\n",
       "      <th>NAME</th>\n",
       "      <th></th>\n",
       "      <th></th>\n",
       "      <th></th>\n",
       "      <th></th>\n",
       "      <th></th>\n",
       "      <th></th>\n",
       "      <th></th>\n",
       "      <th></th>\n",
       "      <th></th>\n",
       "      <th></th>\n",
       "      <th></th>\n",
       "    </tr>\n",
       "  </thead>\n",
       "  <tbody>\n",
       "    <tr>\n",
       "      <th rowspan=\"7\" valign=\"top\">200021.0</th>\n",
       "      <th>arterial_bp_dia</th>\n",
       "      <td>53.0</td>\n",
       "      <td>77.0</td>\n",
       "      <td>65.538462</td>\n",
       "      <td>6.598368</td>\n",
       "      <td>56.0</td>\n",
       "      <td>58.0</td>\n",
       "      <td>26</td>\n",
       "      <td>5.426036</td>\n",
       "      <td>61.25</td>\n",
       "      <td>64.0</td>\n",
       "      <td>70.50</td>\n",
       "    </tr>\n",
       "    <tr>\n",
       "      <th>arterial_bp_sys</th>\n",
       "      <td>93.0</td>\n",
       "      <td>126.0</td>\n",
       "      <td>111.423077</td>\n",
       "      <td>11.812445</td>\n",
       "      <td>104.0</td>\n",
       "      <td>110.0</td>\n",
       "      <td>26</td>\n",
       "      <td>10.621302</td>\n",
       "      <td>101.50</td>\n",
       "      <td>114.5</td>\n",
       "      <td>122.75</td>\n",
       "    </tr>\n",
       "    <tr>\n",
       "      <th>heartrate</th>\n",
       "      <td>65.0</td>\n",
       "      <td>105.0</td>\n",
       "      <td>86.892857</td>\n",
       "      <td>11.275471</td>\n",
       "      <td>96.0</td>\n",
       "      <td>92.0</td>\n",
       "      <td>28</td>\n",
       "      <td>9.535714</td>\n",
       "      <td>80.25</td>\n",
       "      <td>86.0</td>\n",
       "      <td>96.50</td>\n",
       "    </tr>\n",
       "    <tr>\n",
       "      <th>ni_bp_dia</th>\n",
       "      <td>60.0</td>\n",
       "      <td>78.0</td>\n",
       "      <td>71.000000</td>\n",
       "      <td>6.976150</td>\n",
       "      <td>77.0</td>\n",
       "      <td>70.0</td>\n",
       "      <td>7</td>\n",
       "      <td>5.428571</td>\n",
       "      <td>67.00</td>\n",
       "      <td>71.0</td>\n",
       "      <td>77.00</td>\n",
       "    </tr>\n",
       "    <tr>\n",
       "      <th>ni_bp_sys</th>\n",
       "      <td>86.0</td>\n",
       "      <td>107.0</td>\n",
       "      <td>96.714286</td>\n",
       "      <td>8.440266</td>\n",
       "      <td>107.0</td>\n",
       "      <td>93.0</td>\n",
       "      <td>7</td>\n",
       "      <td>7.387755</td>\n",
       "      <td>91.00</td>\n",
       "      <td>93.0</td>\n",
       "      <td>104.50</td>\n",
       "    </tr>\n",
       "    <tr>\n",
       "      <th>resp_rate</th>\n",
       "      <td>11.0</td>\n",
       "      <td>43.0</td>\n",
       "      <td>17.793103</td>\n",
       "      <td>5.595785</td>\n",
       "      <td>16.0</td>\n",
       "      <td>19.0</td>\n",
       "      <td>29</td>\n",
       "      <td>3.082045</td>\n",
       "      <td>15.00</td>\n",
       "      <td>17.0</td>\n",
       "      <td>18.00</td>\n",
       "    </tr>\n",
       "    <tr>\n",
       "      <th>saturation_o2</th>\n",
       "      <td>91.0</td>\n",
       "      <td>100.0</td>\n",
       "      <td>97.862069</td>\n",
       "      <td>2.912095</td>\n",
       "      <td>91.0</td>\n",
       "      <td>94.0</td>\n",
       "      <td>29</td>\n",
       "      <td>2.456599</td>\n",
       "      <td>96.00</td>\n",
       "      <td>100.0</td>\n",
       "      <td>100.00</td>\n",
       "    </tr>\n",
       "    <tr>\n",
       "      <th rowspan=\"7\" valign=\"top\">200025.0</th>\n",
       "      <th>arterial_bp_dia</th>\n",
       "      <td>50.0</td>\n",
       "      <td>101.0</td>\n",
       "      <td>63.090909</td>\n",
       "      <td>9.950618</td>\n",
       "      <td>58.0</td>\n",
       "      <td>76.0</td>\n",
       "      <td>44</td>\n",
       "      <td>6.847107</td>\n",
       "      <td>57.75</td>\n",
       "      <td>61.0</td>\n",
       "      <td>65.00</td>\n",
       "    </tr>\n",
       "    <tr>\n",
       "      <th>arterial_bp_sys</th>\n",
       "      <td>90.0</td>\n",
       "      <td>125.0</td>\n",
       "      <td>104.909091</td>\n",
       "      <td>8.682563</td>\n",
       "      <td>102.0</td>\n",
       "      <td>101.0</td>\n",
       "      <td>44</td>\n",
       "      <td>6.954545</td>\n",
       "      <td>98.00</td>\n",
       "      <td>104.5</td>\n",
       "      <td>111.00</td>\n",
       "    </tr>\n",
       "    <tr>\n",
       "      <th>heartrate</th>\n",
       "      <td>78.0</td>\n",
       "      <td>120.0</td>\n",
       "      <td>101.366667</td>\n",
       "      <td>9.722498</td>\n",
       "      <td>104.0</td>\n",
       "      <td>98.0</td>\n",
       "      <td>90</td>\n",
       "      <td>8.065185</td>\n",
       "      <td>94.00</td>\n",
       "      <td>103.0</td>\n",
       "      <td>109.00</td>\n",
       "    </tr>\n",
       "    <tr>\n",
       "      <th>ni_bp_dia</th>\n",
       "      <td>43.0</td>\n",
       "      <td>77.0</td>\n",
       "      <td>57.674419</td>\n",
       "      <td>6.995648</td>\n",
       "      <td>74.0</td>\n",
       "      <td>47.0</td>\n",
       "      <td>43</td>\n",
       "      <td>5.605192</td>\n",
       "      <td>52.50</td>\n",
       "      <td>57.0</td>\n",
       "      <td>62.00</td>\n",
       "    </tr>\n",
       "    <tr>\n",
       "      <th>ni_bp_sys</th>\n",
       "      <td>99.0</td>\n",
       "      <td>136.0</td>\n",
       "      <td>116.348837</td>\n",
       "      <td>7.296065</td>\n",
       "      <td>126.0</td>\n",
       "      <td>120.0</td>\n",
       "      <td>43</td>\n",
       "      <td>5.782585</td>\n",
       "      <td>110.00</td>\n",
       "      <td>117.0</td>\n",
       "      <td>120.00</td>\n",
       "    </tr>\n",
       "    <tr>\n",
       "      <th>resp_rate</th>\n",
       "      <td>6.0</td>\n",
       "      <td>30.0</td>\n",
       "      <td>18.712644</td>\n",
       "      <td>3.775404</td>\n",
       "      <td>15.0</td>\n",
       "      <td>17.0</td>\n",
       "      <td>87</td>\n",
       "      <td>2.881755</td>\n",
       "      <td>17.00</td>\n",
       "      <td>18.0</td>\n",
       "      <td>21.00</td>\n",
       "    </tr>\n",
       "    <tr>\n",
       "      <th>saturation_o2</th>\n",
       "      <td>93.0</td>\n",
       "      <td>100.0</td>\n",
       "      <td>97.961538</td>\n",
       "      <td>1.549548</td>\n",
       "      <td>99.0</td>\n",
       "      <td>97.0</td>\n",
       "      <td>78</td>\n",
       "      <td>1.296844</td>\n",
       "      <td>97.00</td>\n",
       "      <td>98.0</td>\n",
       "      <td>99.75</td>\n",
       "    </tr>\n",
       "    <tr>\n",
       "      <th rowspan=\"7\" valign=\"top\">200030.0</th>\n",
       "      <th>arterial_bp_dia</th>\n",
       "      <td>51.0</td>\n",
       "      <td>104.0</td>\n",
       "      <td>70.288000</td>\n",
       "      <td>7.498189</td>\n",
       "      <td>73.0</td>\n",
       "      <td>63.0</td>\n",
       "      <td>125</td>\n",
       "      <td>5.771520</td>\n",
       "      <td>66.00</td>\n",
       "      <td>70.0</td>\n",
       "      <td>76.00</td>\n",
       "    </tr>\n",
       "    <tr>\n",
       "      <th>arterial_bp_sys</th>\n",
       "      <td>94.0</td>\n",
       "      <td>182.0</td>\n",
       "      <td>136.272000</td>\n",
       "      <td>14.482122</td>\n",
       "      <td>133.0</td>\n",
       "      <td>128.0</td>\n",
       "      <td>125</td>\n",
       "      <td>11.610880</td>\n",
       "      <td>NaN</td>\n",
       "      <td>NaN</td>\n",
       "      <td>NaN</td>\n",
       "    </tr>\n",
       "    <tr>\n",
       "      <th>heartrate</th>\n",
       "      <td>83.0</td>\n",
       "      <td>130.0</td>\n",
       "      <td>105.224852</td>\n",
       "      <td>10.199631</td>\n",
       "      <td>110.0</td>\n",
       "      <td>124.0</td>\n",
       "      <td>169</td>\n",
       "      <td>8.285354</td>\n",
       "      <td>98.00</td>\n",
       "      <td>105.0</td>\n",
       "      <td>113.00</td>\n",
       "    </tr>\n",
       "    <tr>\n",
       "      <th>ni_bp_dia</th>\n",
       "      <td>14.0</td>\n",
       "      <td>95.0</td>\n",
       "      <td>70.360000</td>\n",
       "      <td>16.197455</td>\n",
       "      <td>65.0</td>\n",
       "      <td>95.0</td>\n",
       "      <td>50</td>\n",
       "      <td>13.200000</td>\n",
       "      <td>59.00</td>\n",
       "      <td>70.5</td>\n",
       "      <td>84.00</td>\n",
       "    </tr>\n",
       "    <tr>\n",
       "      <th>ni_bp_sys</th>\n",
       "      <td>84.0</td>\n",
       "      <td>168.0</td>\n",
       "      <td>136.740000</td>\n",
       "      <td>23.401387</td>\n",
       "      <td>138.0</td>\n",
       "      <td>156.0</td>\n",
       "      <td>50</td>\n",
       "      <td>19.712000</td>\n",
       "      <td>123.25</td>\n",
       "      <td>144.5</td>\n",
       "      <td>156.00</td>\n",
       "    </tr>\n",
       "    <tr>\n",
       "      <th>resp_rate</th>\n",
       "      <td>5.0</td>\n",
       "      <td>33.0</td>\n",
       "      <td>23.916168</td>\n",
       "      <td>4.051496</td>\n",
       "      <td>24.0</td>\n",
       "      <td>26.0</td>\n",
       "      <td>167</td>\n",
       "      <td>2.928753</td>\n",
       "      <td>22.00</td>\n",
       "      <td>24.0</td>\n",
       "      <td>26.00</td>\n",
       "    </tr>\n",
       "    <tr>\n",
       "      <th>saturation_o2</th>\n",
       "      <td>79.0</td>\n",
       "      <td>100.0</td>\n",
       "      <td>95.487805</td>\n",
       "      <td>2.166357</td>\n",
       "      <td>98.0</td>\n",
       "      <td>96.0</td>\n",
       "      <td>164</td>\n",
       "      <td>1.471446</td>\n",
       "      <td>95.00</td>\n",
       "      <td>96.0</td>\n",
       "      <td>97.00</td>\n",
       "    </tr>\n",
       "    <tr>\n",
       "      <th rowspan=\"5\" valign=\"top\">200036.0</th>\n",
       "      <th>heartrate</th>\n",
       "      <td>75.0</td>\n",
       "      <td>136.0</td>\n",
       "      <td>103.478873</td>\n",
       "      <td>14.066027</td>\n",
       "      <td>118.0</td>\n",
       "      <td>112.0</td>\n",
       "      <td>71</td>\n",
       "      <td>10.966872</td>\n",
       "      <td>95.00</td>\n",
       "      <td>105.0</td>\n",
       "      <td>110.00</td>\n",
       "    </tr>\n",
       "    <tr>\n",
       "      <th>ni_bp_dia</th>\n",
       "      <td>45.0</td>\n",
       "      <td>111.0</td>\n",
       "      <td>80.333333</td>\n",
       "      <td>13.937787</td>\n",
       "      <td>94.0</td>\n",
       "      <td>102.0</td>\n",
       "      <td>57</td>\n",
       "      <td>11.321637</td>\n",
       "      <td>71.00</td>\n",
       "      <td>80.0</td>\n",
       "      <td>89.00</td>\n",
       "    </tr>\n",
       "    <tr>\n",
       "      <th>ni_bp_sys</th>\n",
       "      <td>92.0</td>\n",
       "      <td>155.0</td>\n",
       "      <td>124.789474</td>\n",
       "      <td>17.719780</td>\n",
       "      <td>92.0</td>\n",
       "      <td>132.0</td>\n",
       "      <td>57</td>\n",
       "      <td>15.274238</td>\n",
       "      <td>109.00</td>\n",
       "      <td>127.0</td>\n",
       "      <td>140.00</td>\n",
       "    </tr>\n",
       "    <tr>\n",
       "      <th>resp_rate</th>\n",
       "      <td>17.0</td>\n",
       "      <td>34.0</td>\n",
       "      <td>21.771429</td>\n",
       "      <td>3.371541</td>\n",
       "      <td>20.0</td>\n",
       "      <td>23.0</td>\n",
       "      <td>70</td>\n",
       "      <td>2.501224</td>\n",
       "      <td>19.25</td>\n",
       "      <td>21.0</td>\n",
       "      <td>23.00</td>\n",
       "    </tr>\n",
       "    <tr>\n",
       "      <th>saturation_o2</th>\n",
       "      <td>94.0</td>\n",
       "      <td>100.0</td>\n",
       "      <td>99.060606</td>\n",
       "      <td>1.445191</td>\n",
       "      <td>100.0</td>\n",
       "      <td>100.0</td>\n",
       "      <td>66</td>\n",
       "      <td>1.081726</td>\n",
       "      <td>99.00</td>\n",
       "      <td>100.0</td>\n",
       "      <td>100.00</td>\n",
       "    </tr>\n",
       "    <tr>\n",
       "      <th rowspan=\"4\" valign=\"top\">200085.0</th>\n",
       "      <th>heartrate</th>\n",
       "      <td>62.0</td>\n",
       "      <td>98.0</td>\n",
       "      <td>84.853333</td>\n",
       "      <td>9.615153</td>\n",
       "      <td>73.0</td>\n",
       "      <td>75.0</td>\n",
       "      <td>75</td>\n",
       "      <td>8.205867</td>\n",
       "      <td>78.00</td>\n",
       "      <td>86.0</td>\n",
       "      <td>94.00</td>\n",
       "    </tr>\n",
       "    <tr>\n",
       "      <th>ni_bp_dia</th>\n",
       "      <td>41.0</td>\n",
       "      <td>74.0</td>\n",
       "      <td>55.432432</td>\n",
       "      <td>7.891527</td>\n",
       "      <td>43.0</td>\n",
       "      <td>67.0</td>\n",
       "      <td>74</td>\n",
       "      <td>6.405405</td>\n",
       "      <td>49.25</td>\n",
       "      <td>55.5</td>\n",
       "      <td>60.75</td>\n",
       "    </tr>\n",
       "    <tr>\n",
       "      <th>ni_bp_sys</th>\n",
       "      <td>98.0</td>\n",
       "      <td>126.0</td>\n",
       "      <td>111.324324</td>\n",
       "      <td>6.744065</td>\n",
       "      <td>118.0</td>\n",
       "      <td>101.0</td>\n",
       "      <td>74</td>\n",
       "      <td>5.459459</td>\n",
       "      <td>107.00</td>\n",
       "      <td>111.5</td>\n",
       "      <td>115.75</td>\n",
       "    </tr>\n",
       "    <tr>\n",
       "      <th>resp_rate</th>\n",
       "      <td>12.0</td>\n",
       "      <td>24.0</td>\n",
       "      <td>16.500000</td>\n",
       "      <td>3.472892</td>\n",
       "      <td>16.0</td>\n",
       "      <td>20.0</td>\n",
       "      <td>42</td>\n",
       "      <td>2.976190</td>\n",
       "      <td>14.00</td>\n",
       "      <td>16.0</td>\n",
       "      <td>20.00</td>\n",
       "    </tr>\n",
       "    <tr>\n",
       "      <th>...</th>\n",
       "      <th>...</th>\n",
       "      <td>...</td>\n",
       "      <td>...</td>\n",
       "      <td>...</td>\n",
       "      <td>...</td>\n",
       "      <td>...</td>\n",
       "      <td>...</td>\n",
       "      <td>...</td>\n",
       "      <td>...</td>\n",
       "      <td>...</td>\n",
       "      <td>...</td>\n",
       "      <td>...</td>\n",
       "    </tr>\n",
       "    <tr>\n",
       "      <th rowspan=\"5\" valign=\"top\">299950.0</th>\n",
       "      <th>heartrate</th>\n",
       "      <td>54.0</td>\n",
       "      <td>93.0</td>\n",
       "      <td>71.846154</td>\n",
       "      <td>9.592449</td>\n",
       "      <td>76.0</td>\n",
       "      <td>73.0</td>\n",
       "      <td>52</td>\n",
       "      <td>7.940828</td>\n",
       "      <td>64.00</td>\n",
       "      <td>73.0</td>\n",
       "      <td>79.00</td>\n",
       "    </tr>\n",
       "    <tr>\n",
       "      <th>ni_bp_dia</th>\n",
       "      <td>24.0</td>\n",
       "      <td>99.0</td>\n",
       "      <td>59.725490</td>\n",
       "      <td>10.382829</td>\n",
       "      <td>53.0</td>\n",
       "      <td>61.0</td>\n",
       "      <td>51</td>\n",
       "      <td>6.711265</td>\n",
       "      <td>55.00</td>\n",
       "      <td>60.0</td>\n",
       "      <td>64.00</td>\n",
       "    </tr>\n",
       "    <tr>\n",
       "      <th>ni_bp_sys</th>\n",
       "      <td>74.0</td>\n",
       "      <td>144.0</td>\n",
       "      <td>113.333333</td>\n",
       "      <td>16.742361</td>\n",
       "      <td>112.0</td>\n",
       "      <td>133.0</td>\n",
       "      <td>51</td>\n",
       "      <td>13.333333</td>\n",
       "      <td>102.00</td>\n",
       "      <td>114.0</td>\n",
       "      <td>124.50</td>\n",
       "    </tr>\n",
       "    <tr>\n",
       "      <th>resp_rate</th>\n",
       "      <td>9.0</td>\n",
       "      <td>37.0</td>\n",
       "      <td>23.423077</td>\n",
       "      <td>5.898974</td>\n",
       "      <td>33.0</td>\n",
       "      <td>15.0</td>\n",
       "      <td>52</td>\n",
       "      <td>4.735207</td>\n",
       "      <td>20.00</td>\n",
       "      <td>22.5</td>\n",
       "      <td>28.25</td>\n",
       "    </tr>\n",
       "    <tr>\n",
       "      <th>saturation_o2</th>\n",
       "      <td>92.0</td>\n",
       "      <td>100.0</td>\n",
       "      <td>97.076923</td>\n",
       "      <td>1.690181</td>\n",
       "      <td>96.0</td>\n",
       "      <td>98.0</td>\n",
       "      <td>52</td>\n",
       "      <td>1.352071</td>\n",
       "      <td>96.00</td>\n",
       "      <td>97.0</td>\n",
       "      <td>98.00</td>\n",
       "    </tr>\n",
       "    <tr>\n",
       "      <th rowspan=\"6\" valign=\"top\">299951.0</th>\n",
       "      <th>arterial_bp_sys</th>\n",
       "      <td>NaN</td>\n",
       "      <td>NaN</td>\n",
       "      <td>NaN</td>\n",
       "      <td>NaN</td>\n",
       "      <td>NaN</td>\n",
       "      <td>NaN</td>\n",
       "      <td>0</td>\n",
       "      <td>NaN</td>\n",
       "      <td>NaN</td>\n",
       "      <td>NaN</td>\n",
       "      <td>NaN</td>\n",
       "    </tr>\n",
       "    <tr>\n",
       "      <th>heartrate</th>\n",
       "      <td>47.0</td>\n",
       "      <td>88.0</td>\n",
       "      <td>65.928571</td>\n",
       "      <td>10.458089</td>\n",
       "      <td>81.0</td>\n",
       "      <td>63.0</td>\n",
       "      <td>70</td>\n",
       "      <td>8.779592</td>\n",
       "      <td>58.00</td>\n",
       "      <td>65.0</td>\n",
       "      <td>76.00</td>\n",
       "    </tr>\n",
       "    <tr>\n",
       "      <th>ni_bp_dia</th>\n",
       "      <td>54.0</td>\n",
       "      <td>98.0</td>\n",
       "      <td>73.366667</td>\n",
       "      <td>8.777797</td>\n",
       "      <td>70.0</td>\n",
       "      <td>62.0</td>\n",
       "      <td>60</td>\n",
       "      <td>7.033333</td>\n",
       "      <td>67.00</td>\n",
       "      <td>73.5</td>\n",
       "      <td>77.25</td>\n",
       "    </tr>\n",
       "    <tr>\n",
       "      <th>ni_bp_sys</th>\n",
       "      <td>121.0</td>\n",
       "      <td>177.0</td>\n",
       "      <td>144.216667</td>\n",
       "      <td>12.087382</td>\n",
       "      <td>150.0</td>\n",
       "      <td>150.0</td>\n",
       "      <td>60</td>\n",
       "      <td>9.078889</td>\n",
       "      <td>137.75</td>\n",
       "      <td>143.0</td>\n",
       "      <td>150.25</td>\n",
       "    </tr>\n",
       "    <tr>\n",
       "      <th>resp_rate</th>\n",
       "      <td>14.0</td>\n",
       "      <td>28.0</td>\n",
       "      <td>21.671642</td>\n",
       "      <td>2.976616</td>\n",
       "      <td>28.0</td>\n",
       "      <td>20.0</td>\n",
       "      <td>67</td>\n",
       "      <td>2.283359</td>\n",
       "      <td>20.00</td>\n",
       "      <td>22.0</td>\n",
       "      <td>24.00</td>\n",
       "    </tr>\n",
       "    <tr>\n",
       "      <th>saturation_o2</th>\n",
       "      <td>52.0</td>\n",
       "      <td>100.0</td>\n",
       "      <td>95.592593</td>\n",
       "      <td>6.786553</td>\n",
       "      <td>100.0</td>\n",
       "      <td>91.0</td>\n",
       "      <td>54</td>\n",
       "      <td>3.277092</td>\n",
       "      <td>95.00</td>\n",
       "      <td>97.0</td>\n",
       "      <td>98.00</td>\n",
       "    </tr>\n",
       "    <tr>\n",
       "      <th rowspan=\"7\" valign=\"top\">299961.0</th>\n",
       "      <th>arterial_bp_dia</th>\n",
       "      <td>49.0</td>\n",
       "      <td>103.0</td>\n",
       "      <td>77.297521</td>\n",
       "      <td>12.522410</td>\n",
       "      <td>79.0</td>\n",
       "      <td>83.0</td>\n",
       "      <td>121</td>\n",
       "      <td>10.228946</td>\n",
       "      <td>68.00</td>\n",
       "      <td>78.0</td>\n",
       "      <td>86.00</td>\n",
       "    </tr>\n",
       "    <tr>\n",
       "      <th>arterial_bp_sys</th>\n",
       "      <td>75.0</td>\n",
       "      <td>160.0</td>\n",
       "      <td>114.950413</td>\n",
       "      <td>13.672875</td>\n",
       "      <td>95.0</td>\n",
       "      <td>117.0</td>\n",
       "      <td>121</td>\n",
       "      <td>10.019398</td>\n",
       "      <td>108.00</td>\n",
       "      <td>115.0</td>\n",
       "      <td>121.00</td>\n",
       "    </tr>\n",
       "    <tr>\n",
       "      <th>heartrate</th>\n",
       "      <td>55.0</td>\n",
       "      <td>139.0</td>\n",
       "      <td>95.746888</td>\n",
       "      <td>21.044948</td>\n",
       "      <td>119.0</td>\n",
       "      <td>93.0</td>\n",
       "      <td>241</td>\n",
       "      <td>18.235154</td>\n",
       "      <td>79.00</td>\n",
       "      <td>92.0</td>\n",
       "      <td>115.00</td>\n",
       "    </tr>\n",
       "    <tr>\n",
       "      <th>ni_bp_dia</th>\n",
       "      <td>0.0</td>\n",
       "      <td>100.0</td>\n",
       "      <td>72.238411</td>\n",
       "      <td>12.418647</td>\n",
       "      <td>64.0</td>\n",
       "      <td>67.0</td>\n",
       "      <td>151</td>\n",
       "      <td>8.895312</td>\n",
       "      <td>65.50</td>\n",
       "      <td>72.0</td>\n",
       "      <td>79.00</td>\n",
       "    </tr>\n",
       "    <tr>\n",
       "      <th>ni_bp_sys</th>\n",
       "      <td>0.0</td>\n",
       "      <td>148.0</td>\n",
       "      <td>117.609272</td>\n",
       "      <td>17.417988</td>\n",
       "      <td>111.0</td>\n",
       "      <td>104.0</td>\n",
       "      <td>151</td>\n",
       "      <td>12.393316</td>\n",
       "      <td>110.00</td>\n",
       "      <td>118.0</td>\n",
       "      <td>129.50</td>\n",
       "    </tr>\n",
       "    <tr>\n",
       "      <th>resp_rate</th>\n",
       "      <td>0.0</td>\n",
       "      <td>34.0</td>\n",
       "      <td>16.286307</td>\n",
       "      <td>4.637369</td>\n",
       "      <td>25.0</td>\n",
       "      <td>23.0</td>\n",
       "      <td>241</td>\n",
       "      <td>3.694737</td>\n",
       "      <td>12.00</td>\n",
       "      <td>16.0</td>\n",
       "      <td>19.00</td>\n",
       "    </tr>\n",
       "    <tr>\n",
       "      <th>saturation_o2</th>\n",
       "      <td>83.0</td>\n",
       "      <td>100.0</td>\n",
       "      <td>96.712871</td>\n",
       "      <td>3.186841</td>\n",
       "      <td>86.0</td>\n",
       "      <td>97.0</td>\n",
       "      <td>202</td>\n",
       "      <td>2.295951</td>\n",
       "      <td>NaN</td>\n",
       "      <td>NaN</td>\n",
       "      <td>NaN</td>\n",
       "    </tr>\n",
       "    <tr>\n",
       "      <th rowspan=\"7\" valign=\"top\">299967.0</th>\n",
       "      <th>arterial_bp_dia</th>\n",
       "      <td>45.0</td>\n",
       "      <td>77.0</td>\n",
       "      <td>57.584416</td>\n",
       "      <td>6.755798</td>\n",
       "      <td>50.0</td>\n",
       "      <td>59.0</td>\n",
       "      <td>77</td>\n",
       "      <td>5.334458</td>\n",
       "      <td>53.00</td>\n",
       "      <td>57.0</td>\n",
       "      <td>61.00</td>\n",
       "    </tr>\n",
       "    <tr>\n",
       "      <th>arterial_bp_sys</th>\n",
       "      <td>74.0</td>\n",
       "      <td>140.0</td>\n",
       "      <td>104.051948</td>\n",
       "      <td>12.070948</td>\n",
       "      <td>117.0</td>\n",
       "      <td>115.0</td>\n",
       "      <td>77</td>\n",
       "      <td>9.226851</td>\n",
       "      <td>96.00</td>\n",
       "      <td>104.0</td>\n",
       "      <td>111.00</td>\n",
       "    </tr>\n",
       "    <tr>\n",
       "      <th>heartrate</th>\n",
       "      <td>71.0</td>\n",
       "      <td>138.0</td>\n",
       "      <td>89.318182</td>\n",
       "      <td>12.249837</td>\n",
       "      <td>87.0</td>\n",
       "      <td>108.0</td>\n",
       "      <td>88</td>\n",
       "      <td>9.657025</td>\n",
       "      <td>80.00</td>\n",
       "      <td>87.0</td>\n",
       "      <td>96.00</td>\n",
       "    </tr>\n",
       "    <tr>\n",
       "      <th>ni_bp_dia</th>\n",
       "      <td>46.0</td>\n",
       "      <td>61.0</td>\n",
       "      <td>51.769231</td>\n",
       "      <td>4.146361</td>\n",
       "      <td>57.0</td>\n",
       "      <td>54.0</td>\n",
       "      <td>13</td>\n",
       "      <td>3.100592</td>\n",
       "      <td>50.00</td>\n",
       "      <td>51.0</td>\n",
       "      <td>54.00</td>\n",
       "    </tr>\n",
       "    <tr>\n",
       "      <th>ni_bp_sys</th>\n",
       "      <td>96.0</td>\n",
       "      <td>132.0</td>\n",
       "      <td>105.692308</td>\n",
       "      <td>10.168453</td>\n",
       "      <td>96.0</td>\n",
       "      <td>98.0</td>\n",
       "      <td>13</td>\n",
       "      <td>7.822485</td>\n",
       "      <td>99.00</td>\n",
       "      <td>101.0</td>\n",
       "      <td>112.00</td>\n",
       "    </tr>\n",
       "    <tr>\n",
       "      <th>resp_rate</th>\n",
       "      <td>12.0</td>\n",
       "      <td>24.0</td>\n",
       "      <td>16.298246</td>\n",
       "      <td>3.353915</td>\n",
       "      <td>16.0</td>\n",
       "      <td>16.0</td>\n",
       "      <td>57</td>\n",
       "      <td>2.657433</td>\n",
       "      <td>14.00</td>\n",
       "      <td>16.0</td>\n",
       "      <td>18.00</td>\n",
       "    </tr>\n",
       "    <tr>\n",
       "      <th>saturation_o2</th>\n",
       "      <td>90.0</td>\n",
       "      <td>100.0</td>\n",
       "      <td>97.533333</td>\n",
       "      <td>2.289203</td>\n",
       "      <td>99.0</td>\n",
       "      <td>97.0</td>\n",
       "      <td>90</td>\n",
       "      <td>1.874074</td>\n",
       "      <td>96.00</td>\n",
       "      <td>98.0</td>\n",
       "      <td>100.00</td>\n",
       "    </tr>\n",
       "    <tr>\n",
       "      <th rowspan=\"5\" valign=\"top\">299987.0</th>\n",
       "      <th>heartrate</th>\n",
       "      <td>56.0</td>\n",
       "      <td>72.0</td>\n",
       "      <td>64.476190</td>\n",
       "      <td>3.723158</td>\n",
       "      <td>68.0</td>\n",
       "      <td>67.0</td>\n",
       "      <td>21</td>\n",
       "      <td>2.934240</td>\n",
       "      <td>63.00</td>\n",
       "      <td>66.0</td>\n",
       "      <td>67.00</td>\n",
       "    </tr>\n",
       "    <tr>\n",
       "      <th>ni_bp_dia</th>\n",
       "      <td>18.0</td>\n",
       "      <td>77.0</td>\n",
       "      <td>62.050000</td>\n",
       "      <td>14.687893</td>\n",
       "      <td>33.0</td>\n",
       "      <td>68.0</td>\n",
       "      <td>20</td>\n",
       "      <td>9.945000</td>\n",
       "      <td>60.00</td>\n",
       "      <td>65.5</td>\n",
       "      <td>71.00</td>\n",
       "    </tr>\n",
       "    <tr>\n",
       "      <th>ni_bp_sys</th>\n",
       "      <td>89.0</td>\n",
       "      <td>152.0</td>\n",
       "      <td>125.100000</td>\n",
       "      <td>16.936103</td>\n",
       "      <td>136.0</td>\n",
       "      <td>128.0</td>\n",
       "      <td>20</td>\n",
       "      <td>12.310000</td>\n",
       "      <td>117.00</td>\n",
       "      <td>125.0</td>\n",
       "      <td>133.75</td>\n",
       "    </tr>\n",
       "    <tr>\n",
       "      <th>resp_rate</th>\n",
       "      <td>16.0</td>\n",
       "      <td>32.0</td>\n",
       "      <td>23.350000</td>\n",
       "      <td>4.368247</td>\n",
       "      <td>32.0</td>\n",
       "      <td>29.0</td>\n",
       "      <td>20</td>\n",
       "      <td>3.515000</td>\n",
       "      <td>20.50</td>\n",
       "      <td>24.0</td>\n",
       "      <td>26.00</td>\n",
       "    </tr>\n",
       "    <tr>\n",
       "      <th>saturation_o2</th>\n",
       "      <td>90.0</td>\n",
       "      <td>99.0</td>\n",
       "      <td>94.550000</td>\n",
       "      <td>2.282081</td>\n",
       "      <td>97.0</td>\n",
       "      <td>94.0</td>\n",
       "      <td>20</td>\n",
       "      <td>1.750000</td>\n",
       "      <td>94.00</td>\n",
       "      <td>94.5</td>\n",
       "      <td>96.00</td>\n",
       "    </tr>\n",
       "  </tbody>\n",
       "</table>\n",
       "<p>46815 rows × 11 columns</p>\n",
       "</div>"
      ],
      "text/plain": [
       "                             min    max        mean        std  first   last  \\\n",
       "ICUSTAY_ID NAME                                                                \n",
       "200021.0   arterial_bp_dia  53.0   77.0   65.538462   6.598368   56.0   58.0   \n",
       "           arterial_bp_sys  93.0  126.0  111.423077  11.812445  104.0  110.0   \n",
       "           heartrate        65.0  105.0   86.892857  11.275471   96.0   92.0   \n",
       "           ni_bp_dia        60.0   78.0   71.000000   6.976150   77.0   70.0   \n",
       "           ni_bp_sys        86.0  107.0   96.714286   8.440266  107.0   93.0   \n",
       "...                          ...    ...         ...        ...    ...    ...   \n",
       "299987.0   heartrate        56.0   72.0   64.476190   3.723158   68.0   67.0   \n",
       "           ni_bp_dia        18.0   77.0   62.050000  14.687893   33.0   68.0   \n",
       "           ni_bp_sys        89.0  152.0  125.100000  16.936103  136.0  128.0   \n",
       "           resp_rate        16.0   32.0   23.350000   4.368247   32.0   29.0   \n",
       "           saturation_o2    90.0   99.0   94.550000   2.282081   97.0   94.0   \n",
       "\n",
       "                            count        mad   q0.25  q0.50   q0.75  \n",
       "ICUSTAY_ID NAME                                                      \n",
       "200021.0   arterial_bp_dia     26   5.426036   61.25   64.0   70.50  \n",
       "           arterial_bp_sys     26  10.621302  101.50  114.5  122.75  \n",
       "           heartrate           28   9.535714   80.25   86.0   96.50  \n",
       "           ni_bp_dia            7   5.428571   67.00   71.0   77.00  \n",
       "           ni_bp_sys            7   7.387755   91.00   93.0  104.50  \n",
       "...                           ...        ...     ...    ...     ...  \n",
       "299987.0   heartrate           21   2.934240   63.00   66.0   67.00  \n",
       "           ni_bp_dia           20   9.945000   60.00   65.5   71.00  \n",
       "           ni_bp_sys           20  12.310000  117.00  125.0  133.75  \n",
       "           resp_rate           20   3.515000   20.50   24.0   26.00  \n",
       "           saturation_o2       20   1.750000   94.00   94.5   96.00  \n",
       "\n",
       "[46815 rows x 11 columns]"
      ]
     },
     "execution_count": 24,
     "metadata": {},
     "output_type": "execute_result"
    }
   ],
   "source": [
    "chartevents_train_grouped"
   ]
  },
  {
   "cell_type": "code",
   "execution_count": 25,
   "metadata": {},
   "outputs": [],
   "source": [
    "chartevents_test_grouped = chartevents_test.groupby(['ICUSTAY_ID', 'NAME'])['VALUE'].agg(['min', 'max', 'mean', 'std', 'first', 'last', 'count', 'mad', \n",
    "                                                    *quantile_functions])"
   ]
  },
  {
   "cell_type": "markdown",
   "metadata": {},
   "source": [
    "# Labevents"
   ]
  },
  {
   "cell_type": "code",
   "execution_count": 26,
   "metadata": {},
   "outputs": [
    {
     "data": {
      "text/html": [
       "<div>\n",
       "<style scoped>\n",
       "    .dataframe tbody tr th:only-of-type {\n",
       "        vertical-align: middle;\n",
       "    }\n",
       "\n",
       "    .dataframe tbody tr th {\n",
       "        vertical-align: top;\n",
       "    }\n",
       "\n",
       "    .dataframe thead th {\n",
       "        text-align: right;\n",
       "    }\n",
       "</style>\n",
       "<table border=\"1\" class=\"dataframe\">\n",
       "  <thead>\n",
       "    <tr style=\"text-align: right;\">\n",
       "      <th></th>\n",
       "      <th>SUBJECT_ID</th>\n",
       "      <th>HADM_ID</th>\n",
       "      <th>CHARTTIME</th>\n",
       "      <th>VALUE</th>\n",
       "      <th>NAME</th>\n",
       "      <th>ICUSTAY_ID</th>\n",
       "    </tr>\n",
       "  </thead>\n",
       "  <tbody>\n",
       "    <tr>\n",
       "      <th>0</th>\n",
       "      <td>3</td>\n",
       "      <td>145834.0</td>\n",
       "      <td>2101-10-22 04:31:00</td>\n",
       "      <td>7.40</td>\n",
       "      <td>ph</td>\n",
       "      <td>211552.0</td>\n",
       "    </tr>\n",
       "    <tr>\n",
       "      <th>1</th>\n",
       "      <td>3</td>\n",
       "      <td>145834.0</td>\n",
       "      <td>2101-10-22 07:13:00</td>\n",
       "      <td>7.37</td>\n",
       "      <td>ph</td>\n",
       "      <td>211552.0</td>\n",
       "    </tr>\n",
       "    <tr>\n",
       "      <th>2</th>\n",
       "      <td>3</td>\n",
       "      <td>145834.0</td>\n",
       "      <td>2101-10-22 10:16:00</td>\n",
       "      <td>7.37</td>\n",
       "      <td>ph</td>\n",
       "      <td>211552.0</td>\n",
       "    </tr>\n",
       "    <tr>\n",
       "      <th>3</th>\n",
       "      <td>3</td>\n",
       "      <td>145834.0</td>\n",
       "      <td>2101-10-22 11:21:00</td>\n",
       "      <td>7.39</td>\n",
       "      <td>ph</td>\n",
       "      <td>211552.0</td>\n",
       "    </tr>\n",
       "    <tr>\n",
       "      <th>4</th>\n",
       "      <td>3</td>\n",
       "      <td>145834.0</td>\n",
       "      <td>2101-10-22 13:02:00</td>\n",
       "      <td>7.39</td>\n",
       "      <td>ph</td>\n",
       "      <td>211552.0</td>\n",
       "    </tr>\n",
       "  </tbody>\n",
       "</table>\n",
       "</div>"
      ],
      "text/plain": [
       "   SUBJECT_ID   HADM_ID            CHARTTIME  VALUE NAME  ICUSTAY_ID\n",
       "0           3  145834.0  2101-10-22 04:31:00   7.40   ph    211552.0\n",
       "1           3  145834.0  2101-10-22 07:13:00   7.37   ph    211552.0\n",
       "2           3  145834.0  2101-10-22 10:16:00   7.37   ph    211552.0\n",
       "3           3  145834.0  2101-10-22 11:21:00   7.39   ph    211552.0\n",
       "4           3  145834.0  2101-10-22 13:02:00   7.39   ph    211552.0"
      ]
     },
     "execution_count": 26,
     "metadata": {},
     "output_type": "execute_result"
    }
   ],
   "source": [
    "labevents_train.head()"
   ]
  },
  {
   "cell_type": "code",
   "execution_count": 27,
   "metadata": {},
   "outputs": [],
   "source": [
    "labevents_train_grouped = labevents_train.groupby(['ICUSTAY_ID', 'NAME'])['VALUE'].agg(['min', 'max', 'mean', 'std', 'first', 'last', 'count', 'mad', \n",
    "                                                    *quantile_functions])\n",
    "\n",
    "labevents_test_grouped = labevents_test.groupby(['ICUSTAY_ID', 'NAME'])['VALUE'].agg(['min', 'max', 'mean', 'std', 'first', 'last', 'count', 'mad', \n",
    "                                                    *quantile_functions])"
   ]
  },
  {
   "cell_type": "code",
   "execution_count": 28,
   "metadata": {},
   "outputs": [],
   "source": [
    "def unravel_groups(df):\n",
    "    df = df.unstack()\n",
    "    df.columns = ['_'.join(val for val in col) for col in df.columns]\n",
    "    return df\n"
   ]
  },
  {
   "cell_type": "code",
   "execution_count": 29,
   "metadata": {},
   "outputs": [],
   "source": [
    "chartevents_train_grouped = unravel_groups(chartevents_train_grouped)\n",
    "chartevents_test_grouped = unravel_groups(chartevents_test_grouped)\n",
    "\n",
    "labevents_train_grouped = unravel_groups(labevents_train_grouped)\n",
    "labevents_test_grouped = unravel_groups(labevents_test_grouped)"
   ]
  },
  {
   "cell_type": "code",
   "execution_count": 30,
   "metadata": {},
   "outputs": [
    {
     "data": {
      "text/plain": [
       "(7820, 77)"
      ]
     },
     "execution_count": 30,
     "metadata": {},
     "output_type": "execute_result"
    }
   ],
   "source": [
    "chartevents_train_grouped.shape"
   ]
  },
  {
   "cell_type": "code",
   "execution_count": 31,
   "metadata": {},
   "outputs": [
    {
     "data": {
      "text/plain": [
       "(7820, 143)"
      ]
     },
     "execution_count": 31,
     "metadata": {},
     "output_type": "execute_result"
    }
   ],
   "source": [
    "labevents_train_grouped.shape"
   ]
  },
  {
   "cell_type": "code",
   "execution_count": 32,
   "metadata": {},
   "outputs": [
    {
     "data": {
      "text/plain": [
       "7820"
      ]
     },
     "execution_count": 32,
     "metadata": {},
     "output_type": "execute_result"
    }
   ],
   "source": [
    "chartevents_train_grouped.index.nunique()"
   ]
  },
  {
   "cell_type": "code",
   "execution_count": 33,
   "metadata": {},
   "outputs": [
    {
     "data": {
      "text/plain": [
       "7820"
      ]
     },
     "execution_count": 33,
     "metadata": {},
     "output_type": "execute_result"
    }
   ],
   "source": [
    "patient_characteristics_train['ICUSTAY_ID'].nunique()"
   ]
  },
  {
   "cell_type": "code",
   "execution_count": 34,
   "metadata": {},
   "outputs": [
    {
     "data": {
      "text/plain": [
       "7820"
      ]
     },
     "execution_count": 34,
     "metadata": {},
     "output_type": "execute_result"
    }
   ],
   "source": [
    "labevents_train_grouped.index.nunique()"
   ]
  },
  {
   "cell_type": "code",
   "execution_count": 35,
   "metadata": {},
   "outputs": [
    {
     "data": {
      "text/plain": [
       "7820"
      ]
     },
     "execution_count": 35,
     "metadata": {},
     "output_type": "execute_result"
    }
   ],
   "source": [
    "len(set(chartevents_train_grouped.index).intersection(set(patient_characteristics_train['ICUSTAY_ID'])))"
   ]
  },
  {
   "cell_type": "code",
   "execution_count": 36,
   "metadata": {},
   "outputs": [
    {
     "data": {
      "text/plain": [
       "(7820, 106)"
      ]
     },
     "execution_count": 36,
     "metadata": {},
     "output_type": "execute_result"
    }
   ],
   "source": [
    "pd.merge(chartevents_train_grouped, patient_characteristics_train, left_index=True, right_on='ICUSTAY_ID').shape"
   ]
  },
  {
   "cell_type": "markdown",
   "metadata": {},
   "source": [
    "# Merging & Model Preparation"
   ]
  },
  {
   "cell_type": "code",
   "execution_count": 65,
   "metadata": {},
   "outputs": [],
   "source": [
    "df_model_train = pd.merge(\n",
    "    pd.merge(chartevents_train_grouped, patient_characteristics_train, on='ICUSTAY_ID'),\n",
    "    labevents_train_grouped, on='ICUSTAY_ID')"
   ]
  },
  {
   "cell_type": "code",
   "execution_count": 66,
   "metadata": {},
   "outputs": [],
   "source": [
    "df_model_test = pd.merge(\n",
    "    pd.merge(chartevents_test_grouped, patient_characteristics_test, on='ICUSTAY_ID'),\n",
    "    labevents_test_grouped, on='ICUSTAY_ID')"
   ]
  },
  {
   "cell_type": "code",
   "execution_count": 67,
   "metadata": {},
   "outputs": [
    {
     "data": {
      "text/plain": [
       "((7820, 249), (1118, 249))"
      ]
     },
     "execution_count": 67,
     "metadata": {},
     "output_type": "execute_result"
    }
   ],
   "source": [
    "df_model_train.shape, df_model_test.shape"
   ]
  },
  {
   "cell_type": "code",
   "execution_count": 68,
   "metadata": {},
   "outputs": [],
   "source": [
    "to_drop = ['ROW_ID',\n",
    "           'SUBJECT_ID',\n",
    "           'HADM_ID',\n",
    "           'INTIME',\n",
    "           'OUTTIME',\n",
    "           'ADMITTIME',\n",
    "           'DISCHTIME']\n",
    "\n",
    "diagnoses_train = pd.read_csv('dataset/train/diagnoses_train.csv.gz')\n",
    "diagnoses_test = pd.read_csv('dataset/test/diagnoses_test.csv.gz')\n",
    "\n",
    "df_model_train = df_model_train.drop(to_drop, axis=1)\n",
    "df_model_test = df_model_test.drop(to_drop, axis=1)"
   ]
  },
  {
   "cell_type": "code",
   "execution_count": 77,
   "metadata": {},
   "outputs": [],
   "source": [
    "diagnoses_train = diagnoses_train.sort_values('ICUSTAY_ID')\n",
    "df_model_train = df_model_train.sort_values('ICUSTAY_ID')\n",
    "\n",
    "diagnoses_test = diagnoses_test.sort_values('ICUSTAY_ID')\n",
    "df_model_test = df_model_test.sort_values('ICUSTAY_ID')"
   ]
  },
  {
   "cell_type": "code",
   "execution_count": 81,
   "metadata": {},
   "outputs": [],
   "source": [
    "categorical_columns = [\n",
    " 'ETHNICITY',\n",
    " 'INSURANCE',\n",
    " 'RELIGION',\n",
    " 'ADMISSION_TYPE',\n",
    " 'ADMISSION_LOCATION',\n",
    " 'MARITAL_STATUS',\n",
    " 'LANGUAGE',\n",
    " 'FIRST_CAREUNIT',\n",
    " 'DISCHARGE_LOCATION',\n",
    " 'FIRST_WARDID',\n",
    " 'LAST_WARDID',\n",
    " 'LAST_CAREUNIT']"
   ]
  },
  {
   "cell_type": "code",
   "execution_count": 82,
   "metadata": {},
   "outputs": [],
   "source": [
    "def to_numeric_df(df):\n",
    "    for col in df.columns:\n",
    "        df[col] = pd.to_numeric(df[col])\n",
    "    return df"
   ]
  },
  {
   "cell_type": "code",
   "execution_count": 83,
   "metadata": {},
   "outputs": [],
   "source": [
    "df_model_train = pd.get_dummies(df_model_train, columns=categorical_columns, drop_first=True, dummy_na=True)\n",
    "\n",
    "df_model_test = pd.get_dummies(df_model_test, columns=categorical_columns, drop_first=True, dummy_na=True)"
   ]
  },
  {
   "cell_type": "code",
   "execution_count": 84,
   "metadata": {},
   "outputs": [
    {
     "data": {
      "text/plain": [
       "(7820, 394)"
      ]
     },
     "execution_count": 84,
     "metadata": {},
     "output_type": "execute_result"
    }
   ],
   "source": [
    "df_model_train.shape"
   ]
  },
  {
   "cell_type": "code",
   "execution_count": 85,
   "metadata": {},
   "outputs": [],
   "source": [
    "column_intersection = list(set(df_model_train.columns).intersection(set(df_model_test.columns)))\n",
    "\n",
    "df_model_train = df_model_train[column_intersection]\n",
    "df_model_test = df_model_test[column_intersection]"
   ]
  },
  {
   "cell_type": "code",
   "execution_count": 86,
   "metadata": {},
   "outputs": [
    {
     "data": {
      "text/plain": [
       "(7820, 347)"
      ]
     },
     "execution_count": 86,
     "metadata": {},
     "output_type": "execute_result"
    }
   ],
   "source": [
    "df_model_train.shape"
   ]
  },
  {
   "cell_type": "code",
   "execution_count": 87,
   "metadata": {},
   "outputs": [],
   "source": [
    "df_model_train = to_numeric_df(df_model_train)\n",
    "df_model_test = to_numeric_df(df_model_test)"
   ]
  },
  {
   "cell_type": "code",
   "execution_count": 88,
   "metadata": {},
   "outputs": [],
   "source": [
    "df_model_train = df_model_train.fillna(df_model_train.mean())\n",
    "\n",
    "df_model_test = df_model_test.fillna(df_model_test.mean())"
   ]
  },
  {
   "cell_type": "markdown",
   "metadata": {},
   "source": [
    "# Modelling"
   ]
  },
  {
   "cell_type": "code",
   "execution_count": 89,
   "metadata": {},
   "outputs": [],
   "source": [
    "from sklearn.preprocessing import StandardScaler, LabelEncoder\n",
    "\n",
    "X_train = df_model_train.drop('ICUSTAY_ID', axis=1)\n",
    "X_test = df_model_test.drop('ICUSTAY_ID', axis=1)\n",
    "\n",
    "scaler = StandardScaler()\n",
    "X_train = scaler.fit_transform(X_train)\n",
    "X_test = scaler.transform(X_test)\n",
    "\n"
   ]
  },
  {
   "cell_type": "code",
   "execution_count": 91,
   "metadata": {},
   "outputs": [],
   "source": [
    "encoder = LabelEncoder()\n",
    "y_train = encoder.fit_transform(diagnoses_train['DIAGNOSIS'])\n",
    "y_test = encoder.transform(diagnoses_test['DIAGNOSIS'])"
   ]
  },
  {
   "cell_type": "code",
   "execution_count": 92,
   "metadata": {},
   "outputs": [],
   "source": [
    "from sklearn.ensemble import GradientBoostingClassifier"
   ]
  },
  {
   "cell_type": "code",
   "execution_count": 93,
   "metadata": {},
   "outputs": [],
   "source": [
    "model = GradientBoostingClassifier()"
   ]
  },
  {
   "cell_type": "code",
   "execution_count": 94,
   "metadata": {},
   "outputs": [
    {
     "data": {
      "text/plain": [
       "((7820,), (7820, 346))"
      ]
     },
     "execution_count": 94,
     "metadata": {},
     "output_type": "execute_result"
    }
   ],
   "source": [
    "y_train.shape, X_train.shape"
   ]
  },
  {
   "cell_type": "code",
   "execution_count": 102,
   "metadata": {
    "scrolled": true
   },
   "outputs": [
    {
     "data": {
      "text/plain": [
       "GradientBoostingClassifier(criterion='friedman_mse', init=None,\n",
       "                           learning_rate=0.1, loss='deviance', max_depth=3,\n",
       "                           max_features=None, max_leaf_nodes=None,\n",
       "                           min_impurity_decrease=0.0, min_impurity_split=None,\n",
       "                           min_samples_leaf=1, min_samples_split=2,\n",
       "                           min_weight_fraction_leaf=0.0, n_estimators=100,\n",
       "                           n_iter_no_change=None, presort='auto',\n",
       "                           random_state=None, subsample=1.0, tol=0.0001,\n",
       "                           validation_fraction=0.1, verbose=0,\n",
       "                           warm_start=False)"
      ]
     },
     "execution_count": 102,
     "metadata": {},
     "output_type": "execute_result"
    }
   ],
   "source": [
    "model.fit(X_train, y_train)"
   ]
  },
  {
   "cell_type": "code",
   "execution_count": 103,
   "metadata": {},
   "outputs": [],
   "source": [
    "y_pred = model.predict(X_train)"
   ]
  },
  {
   "cell_type": "code",
   "execution_count": 104,
   "metadata": {},
   "outputs": [],
   "source": [
    "from sklearn.metrics import confusion_matrix, accuracy_score"
   ]
  },
  {
   "cell_type": "code",
   "execution_count": 105,
   "metadata": {},
   "outputs": [
    {
     "name": "stdout",
     "output_type": "stream",
     "text": [
      "Accuracy: 0.829156010230179\n"
     ]
    }
   ],
   "source": [
    "print(f'Accuracy: {accuracy_score(y_train, y_pred)}')\n",
    "\n",
    "\n",
    "cm = pd.DataFrame(confusion_matrix(y_train, y_pred))\n",
    "\n",
    "cm.columns = encoder.inverse_transform(cm.columns)\n",
    "cm.index = encoder.inverse_transform(cm.index)"
   ]
  },
  {
   "cell_type": "code",
   "execution_count": 106,
   "metadata": {},
   "outputs": [
    {
     "data": {
      "text/html": [
       "<div>\n",
       "<style scoped>\n",
       "    .dataframe tbody tr th:only-of-type {\n",
       "        vertical-align: middle;\n",
       "    }\n",
       "\n",
       "    .dataframe tbody tr th {\n",
       "        vertical-align: top;\n",
       "    }\n",
       "\n",
       "    .dataframe thead th {\n",
       "        text-align: right;\n",
       "    }\n",
       "</style>\n",
       "<table border=\"1\" class=\"dataframe\">\n",
       "  <thead>\n",
       "    <tr style=\"text-align: right;\">\n",
       "      <th></th>\n",
       "      <th>ALTERED MENTAL STATUS</th>\n",
       "      <th>CONGESTIVE HEART FAILURE</th>\n",
       "      <th>CORONARY ARTERY DISEASE</th>\n",
       "      <th>DIABETIC KETOACIDOSIS</th>\n",
       "      <th>HYPOTENSION</th>\n",
       "      <th>INTRACRANIAL HEMORRHAGE</th>\n",
       "      <th>PNEUMONIA</th>\n",
       "      <th>SEPSIS</th>\n",
       "      <th>STROKE</th>\n",
       "      <th>SUBARACHNOID HEMORRHAGE</th>\n",
       "    </tr>\n",
       "  </thead>\n",
       "  <tbody>\n",
       "    <tr>\n",
       "      <th>ALTERED MENTAL STATUS</th>\n",
       "      <td>403</td>\n",
       "      <td>22</td>\n",
       "      <td>1</td>\n",
       "      <td>4</td>\n",
       "      <td>5</td>\n",
       "      <td>28</td>\n",
       "      <td>115</td>\n",
       "      <td>51</td>\n",
       "      <td>10</td>\n",
       "      <td>10</td>\n",
       "    </tr>\n",
       "    <tr>\n",
       "      <th>CONGESTIVE HEART FAILURE</th>\n",
       "      <td>3</td>\n",
       "      <td>712</td>\n",
       "      <td>40</td>\n",
       "      <td>0</td>\n",
       "      <td>0</td>\n",
       "      <td>4</td>\n",
       "      <td>95</td>\n",
       "      <td>18</td>\n",
       "      <td>0</td>\n",
       "      <td>0</td>\n",
       "    </tr>\n",
       "    <tr>\n",
       "      <th>CORONARY ARTERY DISEASE</th>\n",
       "      <td>1</td>\n",
       "      <td>19</td>\n",
       "      <td>1644</td>\n",
       "      <td>0</td>\n",
       "      <td>0</td>\n",
       "      <td>0</td>\n",
       "      <td>2</td>\n",
       "      <td>7</td>\n",
       "      <td>0</td>\n",
       "      <td>2</td>\n",
       "    </tr>\n",
       "    <tr>\n",
       "      <th>DIABETIC KETOACIDOSIS</th>\n",
       "      <td>3</td>\n",
       "      <td>1</td>\n",
       "      <td>0</td>\n",
       "      <td>375</td>\n",
       "      <td>0</td>\n",
       "      <td>0</td>\n",
       "      <td>5</td>\n",
       "      <td>5</td>\n",
       "      <td>1</td>\n",
       "      <td>0</td>\n",
       "    </tr>\n",
       "    <tr>\n",
       "      <th>HYPOTENSION</th>\n",
       "      <td>9</td>\n",
       "      <td>24</td>\n",
       "      <td>3</td>\n",
       "      <td>6</td>\n",
       "      <td>219</td>\n",
       "      <td>4</td>\n",
       "      <td>61</td>\n",
       "      <td>65</td>\n",
       "      <td>0</td>\n",
       "      <td>0</td>\n",
       "    </tr>\n",
       "    <tr>\n",
       "      <th>INTRACRANIAL HEMORRHAGE</th>\n",
       "      <td>6</td>\n",
       "      <td>7</td>\n",
       "      <td>0</td>\n",
       "      <td>0</td>\n",
       "      <td>0</td>\n",
       "      <td>519</td>\n",
       "      <td>16</td>\n",
       "      <td>11</td>\n",
       "      <td>13</td>\n",
       "      <td>13</td>\n",
       "    </tr>\n",
       "    <tr>\n",
       "      <th>PNEUMONIA</th>\n",
       "      <td>24</td>\n",
       "      <td>59</td>\n",
       "      <td>7</td>\n",
       "      <td>4</td>\n",
       "      <td>7</td>\n",
       "      <td>17</td>\n",
       "      <td>1183</td>\n",
       "      <td>113</td>\n",
       "      <td>4</td>\n",
       "      <td>1</td>\n",
       "    </tr>\n",
       "    <tr>\n",
       "      <th>SEPSIS</th>\n",
       "      <td>13</td>\n",
       "      <td>41</td>\n",
       "      <td>8</td>\n",
       "      <td>6</td>\n",
       "      <td>9</td>\n",
       "      <td>15</td>\n",
       "      <td>186</td>\n",
       "      <td>809</td>\n",
       "      <td>2</td>\n",
       "      <td>3</td>\n",
       "    </tr>\n",
       "    <tr>\n",
       "      <th>STROKE</th>\n",
       "      <td>2</td>\n",
       "      <td>6</td>\n",
       "      <td>2</td>\n",
       "      <td>0</td>\n",
       "      <td>0</td>\n",
       "      <td>38</td>\n",
       "      <td>8</td>\n",
       "      <td>5</td>\n",
       "      <td>296</td>\n",
       "      <td>6</td>\n",
       "    </tr>\n",
       "    <tr>\n",
       "      <th>SUBARACHNOID HEMORRHAGE</th>\n",
       "      <td>5</td>\n",
       "      <td>2</td>\n",
       "      <td>1</td>\n",
       "      <td>0</td>\n",
       "      <td>0</td>\n",
       "      <td>40</td>\n",
       "      <td>5</td>\n",
       "      <td>4</td>\n",
       "      <td>3</td>\n",
       "      <td>324</td>\n",
       "    </tr>\n",
       "  </tbody>\n",
       "</table>\n",
       "</div>"
      ],
      "text/plain": [
       "                          ALTERED MENTAL STATUS  CONGESTIVE HEART FAILURE  \\\n",
       "ALTERED MENTAL STATUS                       403                        22   \n",
       "CONGESTIVE HEART FAILURE                      3                       712   \n",
       "CORONARY ARTERY DISEASE                       1                        19   \n",
       "DIABETIC KETOACIDOSIS                         3                         1   \n",
       "HYPOTENSION                                   9                        24   \n",
       "INTRACRANIAL HEMORRHAGE                       6                         7   \n",
       "PNEUMONIA                                    24                        59   \n",
       "SEPSIS                                       13                        41   \n",
       "STROKE                                        2                         6   \n",
       "SUBARACHNOID HEMORRHAGE                       5                         2   \n",
       "\n",
       "                          CORONARY ARTERY DISEASE  DIABETIC KETOACIDOSIS  \\\n",
       "ALTERED MENTAL STATUS                           1                      4   \n",
       "CONGESTIVE HEART FAILURE                       40                      0   \n",
       "CORONARY ARTERY DISEASE                      1644                      0   \n",
       "DIABETIC KETOACIDOSIS                           0                    375   \n",
       "HYPOTENSION                                     3                      6   \n",
       "INTRACRANIAL HEMORRHAGE                         0                      0   \n",
       "PNEUMONIA                                       7                      4   \n",
       "SEPSIS                                          8                      6   \n",
       "STROKE                                          2                      0   \n",
       "SUBARACHNOID HEMORRHAGE                         1                      0   \n",
       "\n",
       "                          HYPOTENSION  INTRACRANIAL HEMORRHAGE  PNEUMONIA  \\\n",
       "ALTERED MENTAL STATUS               5                       28        115   \n",
       "CONGESTIVE HEART FAILURE            0                        4         95   \n",
       "CORONARY ARTERY DISEASE             0                        0          2   \n",
       "DIABETIC KETOACIDOSIS               0                        0          5   \n",
       "HYPOTENSION                       219                        4         61   \n",
       "INTRACRANIAL HEMORRHAGE             0                      519         16   \n",
       "PNEUMONIA                           7                       17       1183   \n",
       "SEPSIS                              9                       15        186   \n",
       "STROKE                              0                       38          8   \n",
       "SUBARACHNOID HEMORRHAGE             0                       40          5   \n",
       "\n",
       "                          SEPSIS  STROKE  SUBARACHNOID HEMORRHAGE  \n",
       "ALTERED MENTAL STATUS         51      10                       10  \n",
       "CONGESTIVE HEART FAILURE      18       0                        0  \n",
       "CORONARY ARTERY DISEASE        7       0                        2  \n",
       "DIABETIC KETOACIDOSIS          5       1                        0  \n",
       "HYPOTENSION                   65       0                        0  \n",
       "INTRACRANIAL HEMORRHAGE       11      13                       13  \n",
       "PNEUMONIA                    113       4                        1  \n",
       "SEPSIS                       809       2                        3  \n",
       "STROKE                         5     296                        6  \n",
       "SUBARACHNOID HEMORRHAGE        4       3                      324  "
      ]
     },
     "execution_count": 106,
     "metadata": {},
     "output_type": "execute_result"
    }
   ],
   "source": [
    "cm"
   ]
  },
  {
   "cell_type": "markdown",
   "metadata": {},
   "source": [
    "# Submission"
   ]
  },
  {
   "cell_type": "code",
   "execution_count": 119,
   "metadata": {},
   "outputs": [],
   "source": [
    "y_pred_test = model.predict(X_test)"
   ]
  },
  {
   "cell_type": "code",
   "execution_count": 120,
   "metadata": {},
   "outputs": [],
   "source": [
    "diagnoses_test = encoder.inverse_transform(y_pred_test)"
   ]
  },
  {
   "cell_type": "code",
   "execution_count": 121,
   "metadata": {},
   "outputs": [],
   "source": [
    "submission_df = pd.concat([df_model_test['ICUSTAY_ID'], pd.Series(diagnoses_test, name='DIAGNOSIS_PRED')], axis=1)"
   ]
  },
  {
   "cell_type": "code",
   "execution_count": 124,
   "metadata": {},
   "outputs": [],
   "source": [
    "submission_df.to_csv('submission_name.csv', index=False)"
   ]
  },
  {
   "cell_type": "code",
   "execution_count": null,
   "metadata": {},
   "outputs": [],
   "source": []
  }
 ],
 "metadata": {
  "kernelspec": {
   "display_name": "Python 3",
   "language": "python",
   "name": "python3"
  },
  "language_info": {
   "codemirror_mode": {
    "name": "ipython",
    "version": 3
   },
   "file_extension": ".py",
   "mimetype": "text/x-python",
   "name": "python",
   "nbconvert_exporter": "python",
   "pygments_lexer": "ipython3",
   "version": "3.7.4"
  }
 },
 "nbformat": 4,
 "nbformat_minor": 4
}

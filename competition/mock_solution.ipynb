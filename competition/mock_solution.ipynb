{
 "cells": [
  {
   "cell_type": "code",
   "execution_count": 120,
   "metadata": {},
   "outputs": [],
   "source": [
    "import pandas as pd\n",
    "import numpy as np\n",
    "from functools import partial"
   ]
  },
  {
   "cell_type": "code",
   "execution_count": 121,
   "metadata": {},
   "outputs": [],
   "source": [
    "patient_characteristics_train = pd.read_csv('dataset/train/patient_characteristics.csv.gz')\n",
    "chartevents_train = pd.read_csv('dataset/train/chartevents.csv.gz')\n",
    "labevents_train = pd.read_csv('dataset/train/labevents.csv.gz')"
   ]
  },
  {
   "cell_type": "code",
   "execution_count": 122,
   "metadata": {},
   "outputs": [],
   "source": [
    "patient_characteristics_test = pd.read_csv('dataset/test/patient_characteristics.csv.gz')\n",
    "chartevents_test = pd.read_csv('dataset/test/chartevents.csv.gz')\n",
    "labevents_test = pd.read_csv('dataset/test/labevents.csv.gz')"
   ]
  },
  {
   "cell_type": "markdown",
   "metadata": {},
   "source": [
    "# Patient_Characteristics"
   ]
  },
  {
   "cell_type": "code",
   "execution_count": 123,
   "metadata": {
    "scrolled": true
   },
   "outputs": [
    {
     "data": {
      "text/html": [
       "<div>\n",
       "<style scoped>\n",
       "    .dataframe tbody tr th:only-of-type {\n",
       "        vertical-align: middle;\n",
       "    }\n",
       "\n",
       "    .dataframe tbody tr th {\n",
       "        vertical-align: top;\n",
       "    }\n",
       "\n",
       "    .dataframe thead th {\n",
       "        text-align: right;\n",
       "    }\n",
       "</style>\n",
       "<table border=\"1\" class=\"dataframe\">\n",
       "  <thead>\n",
       "    <tr style=\"text-align: right;\">\n",
       "      <th></th>\n",
       "      <th>ROW_ID</th>\n",
       "      <th>SUBJECT_ID</th>\n",
       "      <th>HADM_ID</th>\n",
       "      <th>ICUSTAY_ID</th>\n",
       "      <th>FIRST_CAREUNIT</th>\n",
       "      <th>LAST_CAREUNIT</th>\n",
       "      <th>FIRST_WARDID</th>\n",
       "      <th>LAST_WARDID</th>\n",
       "      <th>INTIME</th>\n",
       "      <th>OUTTIME</th>\n",
       "      <th>...</th>\n",
       "      <th>ADMISSION_TYPE</th>\n",
       "      <th>ADMISSION_LOCATION</th>\n",
       "      <th>DISCHARGE_LOCATION</th>\n",
       "      <th>INSURANCE</th>\n",
       "      <th>LANGUAGE</th>\n",
       "      <th>RELIGION</th>\n",
       "      <th>MARITAL_STATUS</th>\n",
       "      <th>ETHNICITY</th>\n",
       "      <th>DIAGNOSIS</th>\n",
       "      <th>HOSPITAL_EXPIRE_FLAG</th>\n",
       "    </tr>\n",
       "  </thead>\n",
       "  <tbody>\n",
       "    <tr>\n",
       "      <th>0</th>\n",
       "      <td>371</td>\n",
       "      <td>274</td>\n",
       "      <td>130546</td>\n",
       "      <td>254851</td>\n",
       "      <td>MICU</td>\n",
       "      <td>MICU</td>\n",
       "      <td>12</td>\n",
       "      <td>12</td>\n",
       "      <td>2114-06-28 22:28:44</td>\n",
       "      <td>2114-07-07 18:01:16</td>\n",
       "      <td>...</td>\n",
       "      <td>EMERGENCY</td>\n",
       "      <td>EMERGENCY ROOM ADMIT</td>\n",
       "      <td>REHAB/DISTINCT PART HOSP</td>\n",
       "      <td>Medicare</td>\n",
       "      <td>ENGL</td>\n",
       "      <td>PROTESTANT QUAKER</td>\n",
       "      <td>MARRIED</td>\n",
       "      <td>BLACK/AFRICAN AMERICAN</td>\n",
       "      <td>SUBARACHNOID HEMORRHAGE</td>\n",
       "      <td>0</td>\n",
       "    </tr>\n",
       "    <tr>\n",
       "      <th>1</th>\n",
       "      <td>379</td>\n",
       "      <td>283</td>\n",
       "      <td>109185</td>\n",
       "      <td>231490</td>\n",
       "      <td>MICU</td>\n",
       "      <td>MICU</td>\n",
       "      <td>15</td>\n",
       "      <td>15</td>\n",
       "      <td>2166-08-12 22:03:26</td>\n",
       "      <td>2166-09-12 14:41:42</td>\n",
       "      <td>...</td>\n",
       "      <td>EMERGENCY</td>\n",
       "      <td>EMERGENCY ROOM ADMIT</td>\n",
       "      <td>REHAB/DISTINCT PART HOSP</td>\n",
       "      <td>Medicare</td>\n",
       "      <td>NaN</td>\n",
       "      <td>NaN</td>\n",
       "      <td>WIDOWED</td>\n",
       "      <td>WHITE</td>\n",
       "      <td>PNEUMONIA</td>\n",
       "      <td>0</td>\n",
       "    </tr>\n",
       "    <tr>\n",
       "      <th>2</th>\n",
       "      <td>391</td>\n",
       "      <td>291</td>\n",
       "      <td>126219</td>\n",
       "      <td>246725</td>\n",
       "      <td>MICU</td>\n",
       "      <td>MICU</td>\n",
       "      <td>52</td>\n",
       "      <td>52</td>\n",
       "      <td>2107-09-13 22:43:01</td>\n",
       "      <td>2107-09-14 18:34:48</td>\n",
       "      <td>...</td>\n",
       "      <td>EMERGENCY</td>\n",
       "      <td>CLINIC REFERRAL/PREMATURE</td>\n",
       "      <td>SNF</td>\n",
       "      <td>Medicare</td>\n",
       "      <td>ENGL</td>\n",
       "      <td>CATHOLIC</td>\n",
       "      <td>SINGLE</td>\n",
       "      <td>WHITE</td>\n",
       "      <td>ALTERED MENTAL STATUS</td>\n",
       "      <td>0</td>\n",
       "    </tr>\n",
       "    <tr>\n",
       "      <th>3</th>\n",
       "      <td>408</td>\n",
       "      <td>305</td>\n",
       "      <td>122211</td>\n",
       "      <td>224571</td>\n",
       "      <td>MICU</td>\n",
       "      <td>MICU</td>\n",
       "      <td>50</td>\n",
       "      <td>50</td>\n",
       "      <td>2127-06-19 23:50:45</td>\n",
       "      <td>2127-06-20 18:51:59</td>\n",
       "      <td>...</td>\n",
       "      <td>EMERGENCY</td>\n",
       "      <td>EMERGENCY ROOM ADMIT</td>\n",
       "      <td>REHAB/DISTINCT PART HOSP</td>\n",
       "      <td>Medicare</td>\n",
       "      <td>PORT</td>\n",
       "      <td>CATHOLIC</td>\n",
       "      <td>MARRIED</td>\n",
       "      <td>WHITE</td>\n",
       "      <td>CONGESTIVE HEART FAILURE</td>\n",
       "      <td>0</td>\n",
       "    </tr>\n",
       "    <tr>\n",
       "      <th>4</th>\n",
       "      <td>409</td>\n",
       "      <td>305</td>\n",
       "      <td>122211</td>\n",
       "      <td>232248</td>\n",
       "      <td>MICU</td>\n",
       "      <td>MICU</td>\n",
       "      <td>50</td>\n",
       "      <td>50</td>\n",
       "      <td>2127-07-03 20:02:34</td>\n",
       "      <td>2127-07-09 15:31:36</td>\n",
       "      <td>...</td>\n",
       "      <td>EMERGENCY</td>\n",
       "      <td>EMERGENCY ROOM ADMIT</td>\n",
       "      <td>REHAB/DISTINCT PART HOSP</td>\n",
       "      <td>Medicare</td>\n",
       "      <td>PORT</td>\n",
       "      <td>CATHOLIC</td>\n",
       "      <td>MARRIED</td>\n",
       "      <td>WHITE</td>\n",
       "      <td>CONGESTIVE HEART FAILURE</td>\n",
       "      <td>0</td>\n",
       "    </tr>\n",
       "  </tbody>\n",
       "</table>\n",
       "<p>5 rows × 23 columns</p>\n",
       "</div>"
      ],
      "text/plain": [
       "   ROW_ID  SUBJECT_ID  HADM_ID  ICUSTAY_ID FIRST_CAREUNIT LAST_CAREUNIT  \\\n",
       "0     371         274   130546      254851           MICU          MICU   \n",
       "1     379         283   109185      231490           MICU          MICU   \n",
       "2     391         291   126219      246725           MICU          MICU   \n",
       "3     408         305   122211      224571           MICU          MICU   \n",
       "4     409         305   122211      232248           MICU          MICU   \n",
       "\n",
       "   FIRST_WARDID  LAST_WARDID               INTIME              OUTTIME  ...  \\\n",
       "0            12           12  2114-06-28 22:28:44  2114-07-07 18:01:16  ...   \n",
       "1            15           15  2166-08-12 22:03:26  2166-09-12 14:41:42  ...   \n",
       "2            52           52  2107-09-13 22:43:01  2107-09-14 18:34:48  ...   \n",
       "3            50           50  2127-06-19 23:50:45  2127-06-20 18:51:59  ...   \n",
       "4            50           50  2127-07-03 20:02:34  2127-07-09 15:31:36  ...   \n",
       "\n",
       "   ADMISSION_TYPE         ADMISSION_LOCATION        DISCHARGE_LOCATION  \\\n",
       "0       EMERGENCY       EMERGENCY ROOM ADMIT  REHAB/DISTINCT PART HOSP   \n",
       "1       EMERGENCY       EMERGENCY ROOM ADMIT  REHAB/DISTINCT PART HOSP   \n",
       "2       EMERGENCY  CLINIC REFERRAL/PREMATURE                       SNF   \n",
       "3       EMERGENCY       EMERGENCY ROOM ADMIT  REHAB/DISTINCT PART HOSP   \n",
       "4       EMERGENCY       EMERGENCY ROOM ADMIT  REHAB/DISTINCT PART HOSP   \n",
       "\n",
       "  INSURANCE LANGUAGE           RELIGION MARITAL_STATUS  \\\n",
       "0  Medicare     ENGL  PROTESTANT QUAKER        MARRIED   \n",
       "1  Medicare      NaN                NaN        WIDOWED   \n",
       "2  Medicare     ENGL           CATHOLIC         SINGLE   \n",
       "3  Medicare     PORT           CATHOLIC        MARRIED   \n",
       "4  Medicare     PORT           CATHOLIC        MARRIED   \n",
       "\n",
       "                ETHNICITY                 DIAGNOSIS HOSPITAL_EXPIRE_FLAG  \n",
       "0  BLACK/AFRICAN AMERICAN   SUBARACHNOID HEMORRHAGE                    0  \n",
       "1                   WHITE                 PNEUMONIA                    0  \n",
       "2                   WHITE     ALTERED MENTAL STATUS                    0  \n",
       "3                   WHITE  CONGESTIVE HEART FAILURE                    0  \n",
       "4                   WHITE  CONGESTIVE HEART FAILURE                    0  \n",
       "\n",
       "[5 rows x 23 columns]"
      ]
     },
     "execution_count": 123,
     "metadata": {},
     "output_type": "execute_result"
    }
   ],
   "source": [
    "patient_characteristics_train.head()"
   ]
  },
  {
   "cell_type": "code",
   "execution_count": 124,
   "metadata": {},
   "outputs": [
    {
     "data": {
      "text/plain": [
       "Index(['ROW_ID', 'SUBJECT_ID', 'HADM_ID', 'ICUSTAY_ID', 'FIRST_CAREUNIT',\n",
       "       'LAST_CAREUNIT', 'FIRST_WARDID', 'LAST_WARDID', 'INTIME', 'OUTTIME',\n",
       "       'LOS', 'ADMITTIME', 'DISCHTIME', 'ADMISSION_TYPE', 'ADMISSION_LOCATION',\n",
       "       'DISCHARGE_LOCATION', 'INSURANCE', 'LANGUAGE', 'RELIGION',\n",
       "       'MARITAL_STATUS', 'ETHNICITY', 'DIAGNOSIS', 'HOSPITAL_EXPIRE_FLAG'],\n",
       "      dtype='object')"
      ]
     },
     "execution_count": 124,
     "metadata": {},
     "output_type": "execute_result"
    }
   ],
   "source": [
    "patient_characteristics_train.columns"
   ]
  },
  {
   "cell_type": "code",
   "execution_count": 125,
   "metadata": {},
   "outputs": [
    {
     "data": {
      "text/plain": [
       "(7820, 23)"
      ]
     },
     "execution_count": 125,
     "metadata": {},
     "output_type": "execute_result"
    }
   ],
   "source": [
    "patient_characteristics_train.shape"
   ]
  },
  {
   "cell_type": "markdown",
   "metadata": {},
   "source": [
    "## Number of HADM & Numer of ICUSTAY"
   ]
  },
  {
   "cell_type": "code",
   "execution_count": 126,
   "metadata": {},
   "outputs": [],
   "source": [
    "def count_hadm_icustay(df):\n",
    "    num_hadm = df.groupby('SUBJECT_ID')['HADM_ID'].count().rename('NUM_HADM')\n",
    "    num_icustays = df.groupby('SUBJECT_ID')['ICUSTAY_ID'].count().rename('NUM_ICUSTAYS')\n",
    "    \n",
    "    df = pd.merge(df, num_hadm, on='SUBJECT_ID')\n",
    "    df = pd.merge(df, num_icustays, on='SUBJECT_ID')\n",
    "    \n",
    "    return df"
   ]
  },
  {
   "cell_type": "code",
   "execution_count": 127,
   "metadata": {},
   "outputs": [],
   "source": [
    "patient_characteristics_train = count_hadm_icustay(patient_characteristics_train)\n",
    "patient_characteristics_test = count_hadm_icustay(patient_characteristics_test)"
   ]
  },
  {
   "cell_type": "markdown",
   "metadata": {},
   "source": [
    "## Length of Stay"
   ]
  },
  {
   "cell_type": "code",
   "execution_count": 128,
   "metadata": {},
   "outputs": [
    {
     "data": {
      "text/plain": [
       "<matplotlib.axes._subplots.AxesSubplot at 0x1303ce510>"
      ]
     },
     "execution_count": 128,
     "metadata": {},
     "output_type": "execute_result"
    },
    {
     "data": {
      "image/png": "[encoded data removed]",
      "text/plain": [
       "<Figure size 432x288 with 1 Axes>"
      ]
     },
     "metadata": {
      "needs_background": "light"
     },
     "output_type": "display_data"
    }
   ],
   "source": [
    "patient_characteristics_train['LOS'].hist(bins=100)"
   ]
  },
  {
   "cell_type": "code",
   "execution_count": 129,
   "metadata": {},
   "outputs": [],
   "source": [
    "def length_of_stay_quantiles(df, q_locs):\n",
    "    for i in range(len(q_locs) - 1):\n",
    "        q = q_locs[i]\n",
    "        nq = q_locs[i + 1]\n",
    "        df[f'LOS_q_{q:.2f}'] = df['LOS'].between(q, nq)\n",
    "        \n",
    "    return df"
   ]
  },
  {
   "cell_type": "code",
   "execution_count": 130,
   "metadata": {},
   "outputs": [],
   "source": [
    "q_locs = []\n",
    "for q in np.linspace(0, 0.8, 4):\n",
    "    q_loc = patient_characteristics_train['LOS'].quantile(q)\n",
    "    q_locs.append(q_loc)\n",
    "    \n",
    "q_locs.insert(0, 0)\n",
    "q_locs.append(patient_characteristics_train['LOS'].max())"
   ]
  },
  {
   "cell_type": "code",
   "execution_count": 131,
   "metadata": {},
   "outputs": [],
   "source": [
    "patient_characteristics_train = length_of_stay_quantiles(patient_characteristics_train, q_locs)\n",
    "patient_characteristics_test = length_of_stay_quantiles(patient_characteristics_test, q_locs)"
   ]
  },
  {
   "cell_type": "markdown",
   "metadata": {},
   "source": [
    "# Chartevents"
   ]
  },
  {
   "cell_type": "code",
   "execution_count": 132,
   "metadata": {},
   "outputs": [
    {
     "data": {
      "text/html": [
       "<div>\n",
       "<style scoped>\n",
       "    .dataframe tbody tr th:only-of-type {\n",
       "        vertical-align: middle;\n",
       "    }\n",
       "\n",
       "    .dataframe tbody tr th {\n",
       "        vertical-align: top;\n",
       "    }\n",
       "\n",
       "    .dataframe thead th {\n",
       "        text-align: right;\n",
       "    }\n",
       "</style>\n",
       "<table border=\"1\" class=\"dataframe\">\n",
       "  <thead>\n",
       "    <tr style=\"text-align: right;\">\n",
       "      <th></th>\n",
       "      <th>SUBJECT_ID</th>\n",
       "      <th>HADM_ID</th>\n",
       "      <th>ICUSTAY_ID</th>\n",
       "      <th>CHARTTIME</th>\n",
       "      <th>VALUE</th>\n",
       "      <th>NAME</th>\n",
       "    </tr>\n",
       "  </thead>\n",
       "  <tbody>\n",
       "    <tr>\n",
       "      <th>0</th>\n",
       "      <td>85</td>\n",
       "      <td>112077</td>\n",
       "      <td>291697.0</td>\n",
       "      <td>2167-07-26 17:00:00</td>\n",
       "      <td>100.0</td>\n",
       "      <td>heartrate</td>\n",
       "    </tr>\n",
       "    <tr>\n",
       "      <th>1</th>\n",
       "      <td>85</td>\n",
       "      <td>112077</td>\n",
       "      <td>291697.0</td>\n",
       "      <td>2167-07-26 18:00:00</td>\n",
       "      <td>106.0</td>\n",
       "      <td>heartrate</td>\n",
       "    </tr>\n",
       "    <tr>\n",
       "      <th>2</th>\n",
       "      <td>85</td>\n",
       "      <td>112077</td>\n",
       "      <td>291697.0</td>\n",
       "      <td>2167-07-26 19:00:00</td>\n",
       "      <td>114.0</td>\n",
       "      <td>heartrate</td>\n",
       "    </tr>\n",
       "    <tr>\n",
       "      <th>3</th>\n",
       "      <td>85</td>\n",
       "      <td>112077</td>\n",
       "      <td>291697.0</td>\n",
       "      <td>2167-07-26 20:00:00</td>\n",
       "      <td>102.0</td>\n",
       "      <td>heartrate</td>\n",
       "    </tr>\n",
       "    <tr>\n",
       "      <th>4</th>\n",
       "      <td>85</td>\n",
       "      <td>112077</td>\n",
       "      <td>291697.0</td>\n",
       "      <td>2167-07-26 21:00:00</td>\n",
       "      <td>111.0</td>\n",
       "      <td>heartrate</td>\n",
       "    </tr>\n",
       "  </tbody>\n",
       "</table>\n",
       "</div>"
      ],
      "text/plain": [
       "   SUBJECT_ID  HADM_ID  ICUSTAY_ID            CHARTTIME  VALUE       NAME\n",
       "0          85   112077    291697.0  2167-07-26 17:00:00  100.0  heartrate\n",
       "1          85   112077    291697.0  2167-07-26 18:00:00  106.0  heartrate\n",
       "2          85   112077    291697.0  2167-07-26 19:00:00  114.0  heartrate\n",
       "3          85   112077    291697.0  2167-07-26 20:00:00  102.0  heartrate\n",
       "4          85   112077    291697.0  2167-07-26 21:00:00  111.0  heartrate"
      ]
     },
     "execution_count": 132,
     "metadata": {},
     "output_type": "execute_result"
    }
   ],
   "source": [
    "chartevents_train.head()"
   ]
  },
  {
   "cell_type": "code",
   "execution_count": 133,
   "metadata": {},
   "outputs": [],
   "source": [
    "quantiles = np.linspace(0.25, 0.75, 3)\n",
    "\n",
    "quantile_functions = []\n",
    "\n",
    "for quantile in quantiles:\n",
    "    qf = partial(np.quantile, q=quantile)\n",
    "    qf.__name__ = f'q{quantile:.2f}'\n",
    "    quantile_functions.append(qf)"
   ]
  },
  {
   "cell_type": "code",
   "execution_count": 134,
   "metadata": {},
   "outputs": [
    {
     "data": {
      "text/plain": [
       "[functools.partial(<function quantile at 0x110751320>, q=0.25),\n",
       " functools.partial(<function quantile at 0x110751320>, q=0.5),\n",
       " functools.partial(<function quantile at 0x110751320>, q=0.75)]"
      ]
     },
     "execution_count": 134,
     "metadata": {},
     "output_type": "execute_result"
    }
   ],
   "source": [
    "quantile_functions"
   ]
  },
  {
   "cell_type": "code",
   "execution_count": 171,
   "metadata": {},
   "outputs": [],
   "source": [
    "chartevents_train_grouped = chartevents_train.groupby(['ICUSTAY_ID', 'NAME'])['VALUE'].agg(['min', 'max', 'mean', 'std', 'first', 'last', 'count', 'mad', \n",
    "                                                    *quantile_functions])"
   ]
  },
  {
   "cell_type": "code",
   "execution_count": 172,
   "metadata": {},
   "outputs": [],
   "source": [
    "chartevents_test_grouped = chartevents_test.groupby(['ICUSTAY_ID', 'NAME'])['VALUE'].agg(['min', 'max', 'mean', 'std', 'first', 'last', 'count', 'mad', \n",
    "                                                    *quantile_functions])"
   ]
  },
  {
   "cell_type": "markdown",
   "metadata": {},
   "source": [
    "# Labevents"
   ]
  },
  {
   "cell_type": "code",
   "execution_count": 173,
   "metadata": {},
   "outputs": [
    {
     "data": {
      "text/html": [
       "<div>\n",
       "<style scoped>\n",
       "    .dataframe tbody tr th:only-of-type {\n",
       "        vertical-align: middle;\n",
       "    }\n",
       "\n",
       "    .dataframe tbody tr th {\n",
       "        vertical-align: top;\n",
       "    }\n",
       "\n",
       "    .dataframe thead th {\n",
       "        text-align: right;\n",
       "    }\n",
       "</style>\n",
       "<table border=\"1\" class=\"dataframe\">\n",
       "  <thead>\n",
       "    <tr style=\"text-align: right;\">\n",
       "      <th></th>\n",
       "      <th>SUBJECT_ID</th>\n",
       "      <th>HADM_ID</th>\n",
       "      <th>CHARTTIME</th>\n",
       "      <th>VALUE</th>\n",
       "      <th>NAME</th>\n",
       "      <th>ICUSTAY_ID</th>\n",
       "    </tr>\n",
       "  </thead>\n",
       "  <tbody>\n",
       "    <tr>\n",
       "      <th>0</th>\n",
       "      <td>13</td>\n",
       "      <td>143045.0</td>\n",
       "      <td>2167-01-09 20:08:00</td>\n",
       "      <td>7.35</td>\n",
       "      <td>ph</td>\n",
       "      <td>263738.0</td>\n",
       "    </tr>\n",
       "    <tr>\n",
       "      <th>1</th>\n",
       "      <td>13</td>\n",
       "      <td>143045.0</td>\n",
       "      <td>2167-01-09 22:05:00</td>\n",
       "      <td>7.33</td>\n",
       "      <td>ph</td>\n",
       "      <td>263738.0</td>\n",
       "    </tr>\n",
       "    <tr>\n",
       "      <th>2</th>\n",
       "      <td>13</td>\n",
       "      <td>143045.0</td>\n",
       "      <td>2167-01-09 23:02:00</td>\n",
       "      <td>7.31</td>\n",
       "      <td>ph</td>\n",
       "      <td>263738.0</td>\n",
       "    </tr>\n",
       "    <tr>\n",
       "      <th>3</th>\n",
       "      <td>13</td>\n",
       "      <td>143045.0</td>\n",
       "      <td>2167-01-10 00:09:00</td>\n",
       "      <td>7.39</td>\n",
       "      <td>ph</td>\n",
       "      <td>263738.0</td>\n",
       "    </tr>\n",
       "    <tr>\n",
       "      <th>4</th>\n",
       "      <td>13</td>\n",
       "      <td>143045.0</td>\n",
       "      <td>2167-01-10 03:26:00</td>\n",
       "      <td>7.33</td>\n",
       "      <td>ph</td>\n",
       "      <td>263738.0</td>\n",
       "    </tr>\n",
       "  </tbody>\n",
       "</table>\n",
       "</div>"
      ],
      "text/plain": [
       "   SUBJECT_ID   HADM_ID            CHARTTIME  VALUE NAME  ICUSTAY_ID\n",
       "0          13  143045.0  2167-01-09 20:08:00   7.35   ph    263738.0\n",
       "1          13  143045.0  2167-01-09 22:05:00   7.33   ph    263738.0\n",
       "2          13  143045.0  2167-01-09 23:02:00   7.31   ph    263738.0\n",
       "3          13  143045.0  2167-01-10 00:09:00   7.39   ph    263738.0\n",
       "4          13  143045.0  2167-01-10 03:26:00   7.33   ph    263738.0"
      ]
     },
     "execution_count": 173,
     "metadata": {},
     "output_type": "execute_result"
    }
   ],
   "source": [
    "labevents_train.head()"
   ]
  },
  {
   "cell_type": "code",
   "execution_count": 174,
   "metadata": {},
   "outputs": [],
   "source": [
    "labevents_train_grouped = labevents_train.groupby(['ICUSTAY_ID', 'NAME'])['VALUE'].agg(['min', 'max', 'mean', 'std', 'first', 'last', 'count', 'mad', \n",
    "                                                    *quantile_functions])\n",
    "\n",
    "labevents_test_grouped = labevents_test.groupby(['ICUSTAY_ID', 'NAME'])['VALUE'].agg(['min', 'max', 'mean', 'std', 'first', 'last', 'count', 'mad', \n",
    "                                                    *quantile_functions])"
   ]
  },
  {
   "cell_type": "code",
   "execution_count": 175,
   "metadata": {},
   "outputs": [],
   "source": [
    "def unravel_groups(df):\n",
    "    df = df.unstack()\n",
    "    df.columns = ['_'.join(val for val in col) for col in df.columns]\n",
    "    return df\n"
   ]
  },
  {
   "cell_type": "code",
   "execution_count": 176,
   "metadata": {},
   "outputs": [],
   "source": [
    "chartevents_train_grouped = unravel_groups(chartevents_train_grouped)\n",
    "chartevents_test_grouped = unravel_groups(chartevents_test_grouped)\n",
    "\n",
    "labevents_train_grouped = unravel_groups(labevents_train_grouped)\n",
    "labevents_test_grouped = unravel_groups(labevents_test_grouped)"
   ]
  },
  {
   "cell_type": "markdown",
   "metadata": {},
   "source": [
    "# Merging & Model Preparation"
   ]
  },
  {
   "cell_type": "code",
   "execution_count": 375,
   "metadata": {},
   "outputs": [],
   "source": [
    "df_model_train = pd.merge(\n",
    "    pd.merge(chartevents_train_grouped, patient_characteristics_train, on='ICUSTAY_ID'),\n",
    "    labevents_train_grouped, on='ICUSTAY_ID')"
   ]
  },
  {
   "cell_type": "code",
   "execution_count": 376,
   "metadata": {},
   "outputs": [],
   "source": [
    "df_model_test = pd.merge(\n",
    "    pd.merge(chartevents_test_grouped, patient_characteristics_test, on='ICUSTAY_ID'),\n",
    "    labevents_test_grouped, on='ICUSTAY_ID')"
   ]
  },
  {
   "cell_type": "code",
   "execution_count": 377,
   "metadata": {},
   "outputs": [
    {
     "data": {
      "text/plain": [
       "((7820, 250), (1118, 250))"
      ]
     },
     "execution_count": 377,
     "metadata": {},
     "output_type": "execute_result"
    }
   ],
   "source": [
    "df_model_train.shape, df_model_test.shape"
   ]
  },
  {
   "cell_type": "code",
   "execution_count": 378,
   "metadata": {},
   "outputs": [],
   "source": [
    "to_drop = ['ROW_ID',\n",
    "           'SUBJECT_ID',\n",
    "           'HADM_ID',\n",
    "           'INTIME',\n",
    "           'OUTTIME',\n",
    "           'ADMITTIME',\n",
    "           'DISCHTIME',\n",
    "           'DIAGNOSIS']\n",
    "\n",
    "y_train = df_model_train[['SUBJECT_ID', 'DIAGNOSIS']]\n",
    "y_test = df_model_test[['SUBJECT_ID', 'DIAGNOSIS']]\n",
    "\n",
    "df_model_train = df_model_train.drop(to_drop, axis=1)\n",
    "df_model_test = df_model_test.drop(to_drop, axis=1)"
   ]
  },
  {
   "cell_type": "code",
   "execution_count": 379,
   "metadata": {},
   "outputs": [
    {
     "data": {
      "text/plain": [
       "((7820, 242), (1118, 242))"
      ]
     },
     "execution_count": 379,
     "metadata": {},
     "output_type": "execute_result"
    }
   ],
   "source": [
    "df_model_train.shape, df_model_test.shape"
   ]
  },
  {
   "cell_type": "code",
   "execution_count": 380,
   "metadata": {},
   "outputs": [],
   "source": [
    "categorical_columns = [\n",
    " 'ETHNICITY',\n",
    " 'INSURANCE',\n",
    " 'RELIGION',\n",
    " 'ADMISSION_TYPE',\n",
    " 'ADMISSION_LOCATION',\n",
    " 'MARITAL_STATUS',\n",
    " 'LANGUAGE',\n",
    " 'FIRST_CAREUNIT',\n",
    " 'DISCHARGE_LOCATION',\n",
    " 'FIRST_WARDID',\n",
    " 'LAST_WARDID',\n",
    " 'LAST_CAREUNIT']"
   ]
  },
  {
   "cell_type": "code",
   "execution_count": 381,
   "metadata": {},
   "outputs": [],
   "source": [
    "def to_numeric_df(df):\n",
    "    for col in df.columns:\n",
    "        df[col] = pd.to_numeric(df[col])\n",
    "    return df"
   ]
  },
  {
   "cell_type": "code",
   "execution_count": 382,
   "metadata": {},
   "outputs": [],
   "source": [
    "df_model_train = pd.get_dummies(df_model_train, columns=categorical_columns, drop_first=True, dummy_na=True)\n",
    "\n",
    "df_model_test = pd.get_dummies(df_model_test, columns=categorical_columns, drop_first=True, dummy_na=True)"
   ]
  },
  {
   "cell_type": "code",
   "execution_count": 383,
   "metadata": {},
   "outputs": [
    {
     "data": {
      "text/plain": [
       "(7820, 394)"
      ]
     },
     "execution_count": 383,
     "metadata": {},
     "output_type": "execute_result"
    }
   ],
   "source": [
    "df_model_train.shape"
   ]
  },
  {
   "cell_type": "code",
   "execution_count": 384,
   "metadata": {},
   "outputs": [],
   "source": [
    "column_intersection = list(set(df_model_train.columns).intersection(set(df_model_test.columns)))\n",
    "\n",
    "df_model_train = df_model_train[column_intersection]\n",
    "df_model_test = df_model_test[column_intersection]"
   ]
  },
  {
   "cell_type": "code",
   "execution_count": 385,
   "metadata": {},
   "outputs": [
    {
     "data": {
      "text/plain": [
       "(7820, 350)"
      ]
     },
     "execution_count": 385,
     "metadata": {},
     "output_type": "execute_result"
    }
   ],
   "source": [
    "df_model_train.shape"
   ]
  },
  {
   "cell_type": "code",
   "execution_count": 386,
   "metadata": {},
   "outputs": [],
   "source": [
    "df_model_train = to_numeric_df(df_model_train)\n",
    "df_model_test = to_numeric_df(df_model_test)"
   ]
  },
  {
   "cell_type": "code",
   "execution_count": 387,
   "metadata": {},
   "outputs": [],
   "source": [
    "df_model_train = df_model_train.fillna(df_model_train.mean())\n",
    "\n",
    "df_model_test = df_model_test.fillna(df_model_test.mean())"
   ]
  },
  {
   "cell_type": "markdown",
   "metadata": {},
   "source": [
    "# Modelling"
   ]
  },
  {
   "cell_type": "code",
   "execution_count": 389,
   "metadata": {},
   "outputs": [],
   "source": [
    "from sklearn.preprocessing import StandardScaler, LabelEncoder\n",
    "\n",
    "X_train = df_model_train.drop('ICUSTAY_ID', axis=1)\n",
    "X_test = df_model_test.drop('ICUSTAY_ID', axis=1)\n",
    "\n",
    "scaler = StandardScaler()\n",
    "X_train = scaler.fit_transform(X_train)\n",
    "X_test = scaler.transform(X_test)\n",
    "\n"
   ]
  },
  {
   "cell_type": "code",
   "execution_count": 392,
   "metadata": {},
   "outputs": [],
   "source": [
    "encoder = LabelEncoder()\n",
    "\n",
    "y_train = encoder.fit_transform(y_train['DIAGNOSIS'])\n",
    "\n",
    "y_test = encoder.transform(y_test['DIAGNOSIS'])"
   ]
  },
  {
   "cell_type": "code",
   "execution_count": 393,
   "metadata": {},
   "outputs": [],
   "source": [
    "from sklearn.ensemble import GradientBoostingClassifier"
   ]
  },
  {
   "cell_type": "code",
   "execution_count": 394,
   "metadata": {},
   "outputs": [],
   "source": [
    "model = GradientBoostingClassifier()"
   ]
  },
  {
   "cell_type": "code",
   "execution_count": 395,
   "metadata": {},
   "outputs": [
    {
     "data": {
      "text/plain": [
       "((7820,), (7820, 349))"
      ]
     },
     "execution_count": 395,
     "metadata": {},
     "output_type": "execute_result"
    }
   ],
   "source": [
    "y_train.shape, X_train.shape"
   ]
  },
  {
   "cell_type": "code",
   "execution_count": 396,
   "metadata": {
    "scrolled": true
   },
   "outputs": [
    {
     "data": {
      "text/plain": [
       "GradientBoostingClassifier(criterion='friedman_mse', init=None,\n",
       "                           learning_rate=0.1, loss='deviance', max_depth=3,\n",
       "                           max_features=None, max_leaf_nodes=None,\n",
       "                           min_impurity_decrease=0.0, min_impurity_split=None,\n",
       "                           min_samples_leaf=1, min_samples_split=2,\n",
       "                           min_weight_fraction_leaf=0.0, n_estimators=100,\n",
       "                           n_iter_no_change=None, presort='auto',\n",
       "                           random_state=None, subsample=1.0, tol=0.0001,\n",
       "                           validation_fraction=0.1, verbose=0,\n",
       "                           warm_start=False)"
      ]
     },
     "execution_count": 396,
     "metadata": {},
     "output_type": "execute_result"
    }
   ],
   "source": [
    "model.fit(X_train, y_train)"
   ]
  },
  {
   "cell_type": "code",
   "execution_count": 402,
   "metadata": {},
   "outputs": [],
   "source": [
    "y_pred = model.predict(X_test)"
   ]
  },
  {
   "cell_type": "code",
   "execution_count": 403,
   "metadata": {},
   "outputs": [],
   "source": [
    "from sklearn.metrics import confusion_matrix, accuracy_score"
   ]
  },
  {
   "cell_type": "code",
   "execution_count": 409,
   "metadata": {},
   "outputs": [
    {
     "name": "stdout",
     "output_type": "stream",
     "text": [
      "Accuracy: 0.5974955277280859\n"
     ]
    }
   ],
   "source": [
    "print(f'Accuracy: {accuracy_score(y_test, y_pred)}')\n",
    "\n",
    "\n",
    "cm = pd.DataFrame(confusion_matrix(y_test, y_pred))\n",
    "\n",
    "cm.columns = encoder.inverse_transform(cm.columns)\n",
    "cm.index = encoder.inverse_transform(cm.index)"
   ]
  },
  {
   "cell_type": "code",
   "execution_count": 410,
   "metadata": {},
   "outputs": [
    {
     "data": {
      "text/html": [
       "<div>\n",
       "<style scoped>\n",
       "    .dataframe tbody tr th:only-of-type {\n",
       "        vertical-align: middle;\n",
       "    }\n",
       "\n",
       "    .dataframe tbody tr th {\n",
       "        vertical-align: top;\n",
       "    }\n",
       "\n",
       "    .dataframe thead th {\n",
       "        text-align: right;\n",
       "    }\n",
       "</style>\n",
       "<table border=\"1\" class=\"dataframe\">\n",
       "  <thead>\n",
       "    <tr style=\"text-align: right;\">\n",
       "      <th></th>\n",
       "      <th>ALTERED MENTAL STATUS</th>\n",
       "      <th>CONGESTIVE HEART FAILURE</th>\n",
       "      <th>CORONARY ARTERY DISEASE</th>\n",
       "      <th>DIABETIC KETOACIDOSIS</th>\n",
       "      <th>HYPOTENSION</th>\n",
       "      <th>INTRACRANIAL HEMORRHAGE</th>\n",
       "      <th>PNEUMONIA</th>\n",
       "      <th>SEPSIS</th>\n",
       "      <th>STROKE</th>\n",
       "      <th>SUBARACHNOID HEMORRHAGE</th>\n",
       "    </tr>\n",
       "  </thead>\n",
       "  <tbody>\n",
       "    <tr>\n",
       "      <th>ALTERED MENTAL STATUS</th>\n",
       "      <td>17</td>\n",
       "      <td>7</td>\n",
       "      <td>0</td>\n",
       "      <td>1</td>\n",
       "      <td>0</td>\n",
       "      <td>6</td>\n",
       "      <td>29</td>\n",
       "      <td>21</td>\n",
       "      <td>8</td>\n",
       "      <td>3</td>\n",
       "    </tr>\n",
       "    <tr>\n",
       "      <th>CONGESTIVE HEART FAILURE</th>\n",
       "      <td>1</td>\n",
       "      <td>76</td>\n",
       "      <td>7</td>\n",
       "      <td>0</td>\n",
       "      <td>1</td>\n",
       "      <td>0</td>\n",
       "      <td>21</td>\n",
       "      <td>9</td>\n",
       "      <td>0</td>\n",
       "      <td>0</td>\n",
       "    </tr>\n",
       "    <tr>\n",
       "      <th>CORONARY ARTERY DISEASE</th>\n",
       "      <td>0</td>\n",
       "      <td>7</td>\n",
       "      <td>246</td>\n",
       "      <td>1</td>\n",
       "      <td>0</td>\n",
       "      <td>0</td>\n",
       "      <td>0</td>\n",
       "      <td>1</td>\n",
       "      <td>0</td>\n",
       "      <td>1</td>\n",
       "    </tr>\n",
       "    <tr>\n",
       "      <th>DIABETIC KETOACIDOSIS</th>\n",
       "      <td>2</td>\n",
       "      <td>0</td>\n",
       "      <td>0</td>\n",
       "      <td>31</td>\n",
       "      <td>1</td>\n",
       "      <td>1</td>\n",
       "      <td>4</td>\n",
       "      <td>5</td>\n",
       "      <td>0</td>\n",
       "      <td>0</td>\n",
       "    </tr>\n",
       "    <tr>\n",
       "      <th>HYPOTENSION</th>\n",
       "      <td>3</td>\n",
       "      <td>5</td>\n",
       "      <td>1</td>\n",
       "      <td>1</td>\n",
       "      <td>6</td>\n",
       "      <td>1</td>\n",
       "      <td>21</td>\n",
       "      <td>19</td>\n",
       "      <td>1</td>\n",
       "      <td>1</td>\n",
       "    </tr>\n",
       "    <tr>\n",
       "      <th>INTRACRANIAL HEMORRHAGE</th>\n",
       "      <td>1</td>\n",
       "      <td>6</td>\n",
       "      <td>1</td>\n",
       "      <td>0</td>\n",
       "      <td>0</td>\n",
       "      <td>46</td>\n",
       "      <td>7</td>\n",
       "      <td>5</td>\n",
       "      <td>7</td>\n",
       "      <td>16</td>\n",
       "    </tr>\n",
       "    <tr>\n",
       "      <th>PNEUMONIA</th>\n",
       "      <td>7</td>\n",
       "      <td>21</td>\n",
       "      <td>3</td>\n",
       "      <td>3</td>\n",
       "      <td>2</td>\n",
       "      <td>4</td>\n",
       "      <td>125</td>\n",
       "      <td>34</td>\n",
       "      <td>2</td>\n",
       "      <td>0</td>\n",
       "    </tr>\n",
       "    <tr>\n",
       "      <th>SEPSIS</th>\n",
       "      <td>8</td>\n",
       "      <td>8</td>\n",
       "      <td>3</td>\n",
       "      <td>2</td>\n",
       "      <td>7</td>\n",
       "      <td>0</td>\n",
       "      <td>50</td>\n",
       "      <td>77</td>\n",
       "      <td>3</td>\n",
       "      <td>0</td>\n",
       "    </tr>\n",
       "    <tr>\n",
       "      <th>STROKE</th>\n",
       "      <td>3</td>\n",
       "      <td>2</td>\n",
       "      <td>0</td>\n",
       "      <td>0</td>\n",
       "      <td>0</td>\n",
       "      <td>20</td>\n",
       "      <td>1</td>\n",
       "      <td>2</td>\n",
       "      <td>14</td>\n",
       "      <td>3</td>\n",
       "    </tr>\n",
       "    <tr>\n",
       "      <th>SUBARACHNOID HEMORRHAGE</th>\n",
       "      <td>1</td>\n",
       "      <td>0</td>\n",
       "      <td>0</td>\n",
       "      <td>0</td>\n",
       "      <td>0</td>\n",
       "      <td>20</td>\n",
       "      <td>3</td>\n",
       "      <td>2</td>\n",
       "      <td>3</td>\n",
       "      <td>30</td>\n",
       "    </tr>\n",
       "  </tbody>\n",
       "</table>\n",
       "</div>"
      ],
      "text/plain": [
       "                          ALTERED MENTAL STATUS  CONGESTIVE HEART FAILURE  \\\n",
       "ALTERED MENTAL STATUS                        17                         7   \n",
       "CONGESTIVE HEART FAILURE                      1                        76   \n",
       "CORONARY ARTERY DISEASE                       0                         7   \n",
       "DIABETIC KETOACIDOSIS                         2                         0   \n",
       "HYPOTENSION                                   3                         5   \n",
       "INTRACRANIAL HEMORRHAGE                       1                         6   \n",
       "PNEUMONIA                                     7                        21   \n",
       "SEPSIS                                        8                         8   \n",
       "STROKE                                        3                         2   \n",
       "SUBARACHNOID HEMORRHAGE                       1                         0   \n",
       "\n",
       "                          CORONARY ARTERY DISEASE  DIABETIC KETOACIDOSIS  \\\n",
       "ALTERED MENTAL STATUS                           0                      1   \n",
       "CONGESTIVE HEART FAILURE                        7                      0   \n",
       "CORONARY ARTERY DISEASE                       246                      1   \n",
       "DIABETIC KETOACIDOSIS                           0                     31   \n",
       "HYPOTENSION                                     1                      1   \n",
       "INTRACRANIAL HEMORRHAGE                         1                      0   \n",
       "PNEUMONIA                                       3                      3   \n",
       "SEPSIS                                          3                      2   \n",
       "STROKE                                          0                      0   \n",
       "SUBARACHNOID HEMORRHAGE                         0                      0   \n",
       "\n",
       "                          HYPOTENSION  INTRACRANIAL HEMORRHAGE  PNEUMONIA  \\\n",
       "ALTERED MENTAL STATUS               0                        6         29   \n",
       "CONGESTIVE HEART FAILURE            1                        0         21   \n",
       "CORONARY ARTERY DISEASE             0                        0          0   \n",
       "DIABETIC KETOACIDOSIS               1                        1          4   \n",
       "HYPOTENSION                         6                        1         21   \n",
       "INTRACRANIAL HEMORRHAGE             0                       46          7   \n",
       "PNEUMONIA                           2                        4        125   \n",
       "SEPSIS                              7                        0         50   \n",
       "STROKE                              0                       20          1   \n",
       "SUBARACHNOID HEMORRHAGE             0                       20          3   \n",
       "\n",
       "                          SEPSIS  STROKE  SUBARACHNOID HEMORRHAGE  \n",
       "ALTERED MENTAL STATUS         21       8                        3  \n",
       "CONGESTIVE HEART FAILURE       9       0                        0  \n",
       "CORONARY ARTERY DISEASE        1       0                        1  \n",
       "DIABETIC KETOACIDOSIS          5       0                        0  \n",
       "HYPOTENSION                   19       1                        1  \n",
       "INTRACRANIAL HEMORRHAGE        5       7                       16  \n",
       "PNEUMONIA                     34       2                        0  \n",
       "SEPSIS                        77       3                        0  \n",
       "STROKE                         2      14                        3  \n",
       "SUBARACHNOID HEMORRHAGE        2       3                       30  "
      ]
     },
     "execution_count": 410,
     "metadata": {},
     "output_type": "execute_result"
    }
   ],
   "source": [
    "cm"
   ]
  },
  {
   "cell_type": "code",
   "execution_count": null,
   "metadata": {},
   "outputs": [],
   "source": []
  }
 ],
 "metadata": {
  "kernelspec": {
   "display_name": "Python 3",
   "language": "python",
   "name": "python3"
  },
  "language_info": {
   "codemirror_mode": {
    "name": "ipython",
    "version": 3
   },
   "file_extension": ".py",
   "mimetype": "text/x-python",
   "name": "python",
   "nbconvert_exporter": "python",
   "pygments_lexer": "ipython3",
   "version": "3.7.4"
  }
 },
 "nbformat": 4,
 "nbformat_minor": 2
}
